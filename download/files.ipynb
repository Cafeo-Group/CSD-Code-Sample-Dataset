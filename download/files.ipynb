{
 "cells": [
  {
   "cell_type": "markdown",
   "metadata": {},
   "source": [
    "<div class=\"alert alert-info\">\n",
    "    <center><b>Set up Notebook</b></center>\n",
    "</div>"
   ]
  },
  {
   "cell_type": "code",
   "execution_count": null,
   "metadata": {},
   "outputs": [],
   "source": [
    "%pip install os tqdm psycopg2 dotenv re"
   ]
  },
  {
   "cell_type": "code",
   "execution_count": 2,
   "metadata": {},
   "outputs": [],
   "source": [
    "import os\n",
    "from tqdm import tqdm\n",
    "import psycopg2\n",
    "from dotenv import load_dotenv\n",
    "import re\n",
    "from types import List, Dict, Any"
   ]
  },
  {
   "cell_type": "code",
   "execution_count": 3,
   "metadata": {},
   "outputs": [],
   "source": [
    "load_dotenv()\n",
    "DB_PASSWORD = os.getenv('DB_PASSWORD')"
   ]
  },
  {
   "cell_type": "markdown",
   "metadata": {},
   "source": [
    "<div class=\"alert alert-info\">\n",
    "    <center><b>Add all methods used</b></center>\n",
    "</div>"
   ]
  },
  {
   "cell_type": "code",
   "execution_count": 4,
   "metadata": {},
   "outputs": [],
   "source": [
    "def db_conn(db: str, password: str, user: str) -> psycopg2.extensions.connection:\n",
    "    \"\"\"Connects to the specified database.\n",
    "    \n",
    "    Args:\n",
    "        db (str) - The name of the database to connect to.\\n\n",
    "        password (str) - The password for the user to connect with.\\n\n",
    "        user (str) - The user to connect with.\\n\n",
    "    \n",
    "    Returns:\n",
    "        psycopg2.extensions.connection: The connection object.\n",
    "    \"\"\"\n",
    "    return psycopg2.connect(\n",
    "        database = db,\n",
    "        user = user,\n",
    "        host = 'localhost',\n",
    "        password = password,\n",
    "        port = '5432'        \n",
    "    )"
   ]
  },
  {
   "cell_type": "code",
   "execution_count": 5,
   "metadata": {},
   "outputs": [],
   "source": [
    "def add_file(file_name: str, sha: str, diff: str, conn: psycopg2.extensions.connection) -> None:\n",
    "    \"\"\"Adds a file version to the database.\n",
    "    \n",
    "    Parameters:\n",
    "        file_name (str) - the name of the file\\n\n",
    "        sha (str) - the sha of the commit\\n\n",
    "        diff (str) - the diff of the file\\n\n",
    "        conn (psycopg2.extensions.connection) - the connection to the database\n",
    "        \n",
    "    Returns:\n",
    "        None\n",
    "    \"\"\"\n",
    "    cursor = conn.cursor()\n",
    "    file_type = file_name.split('.')[-1]\n",
    "    cursor.execute(f\"INSERT INTO files (name, sha, type, diff) VALUES (%s, %s, %s, %s);\", (file_name, sha, file_type, diff))\n",
    "    conn.commit()\n",
    "    cursor.close()"
   ]
  },
  {
   "cell_type": "code",
   "execution_count": 6,
   "metadata": {},
   "outputs": [],
   "source": [
    "def get_altered_files(diff_text):\n",
    "    \"\"\"Extracts the names of files altered in a git diff text.\n",
    "\n",
    "    Parameters:\n",
    "        diff_text (str) - The git diff text.\n",
    "\n",
    "    Returns:\n",
    "        List[str] - A list of file names that were altered in the commit.\n",
    "    \"\"\"\n",
    "    pattern = r\"^diff --git a/(.+?) b/\\1\"\n",
    "    \n",
    "    matches = re.findall(pattern, diff_text, re.MULTILINE)\n",
    "\n",
    "    return matches"
   ]
  },
  {
   "cell_type": "code",
   "execution_count": null,
   "metadata": {},
   "outputs": [],
   "source": [
    "def parse_hunks(diff_text: str) -> List[Dict[str, List[str]]]:\n",
    "    \"\"\"Parses the hunks in a diff text into structured data.\n",
    "\n",
    "    Parameters:\n",
    "        diff_text (str): The diff text for a specific file.\n",
    "\n",
    "    Returns:\n",
    "        List[Dict[str, Any]]: A list of hunks, each represented as a dictionary\n",
    "                              with 'header' and 'lines' keys.\n",
    "    \"\"\"\n",
    "    hunk_pattern = r\"(^@@ .+? @@.*$)\"  # Match hunk headers\n",
    "    sections = re.split(hunk_pattern, diff_text, flags=re.MULTILINE)\n",
    "\n",
    "    hunks = []\n",
    "    for i in range(1, len(sections), 2):\n",
    "        header = sections[i]\n",
    "        lines = sections[i + 1].strip().splitlines() if i + 1 < len(sections) else []\n",
    "        hunks.append({\"header\": header, \"lines\": lines})"
   ]
  },
  {
   "cell_type": "code",
   "execution_count": 7,
   "metadata": {},
   "outputs": [],
   "source": [
    "def get_diffs_by_file(diff_text: str) -> Dict[str, Dict[str, Any]]:\n",
    "    \"\"\"Extracts the diff content for each file in the git diff text, including types and hunks.\n",
    "\n",
    "    Parameters:\n",
    "        diff_text (str): The git diff text.\n",
    "\n",
    "    Returns:\n",
    "        Dict[str, Dict[str, Any]]: A dictionary where keys are file names and values are dictionaries\n",
    "                                   containing 'type', 'a_diff', 'b_diff', and 'hunks'.\n",
    "    \"\"\"\n",
    "    split_pattern = r\"(^diff --git a/.+? b/.+?$)\"\n",
    "    sections = re.split(split_pattern, diff_text, flags=re.MULTILINE)\n",
    "\n",
    "    files = []\n",
    "    file_data = []\n",
    "    for i in range(1, len(sections), 2):\n",
    "        header = sections[i]\n",
    "        body = sections[i + 1] if i + 1 < len(sections) else \"\"\n",
    "\n",
    "        match = re.search(r\"^diff --git a/(.+?) b/(.+?)$\", header, re.MULTILINE)\n",
    "        if match:\n",
    "            file_a = match.group(1)\n",
    "            file_b = match.group(2)\n",
    "\n",
    "            if \"deleted file mode\" in body:\n",
    "                file_type = \"deleted\"\n",
    "            elif \"new file mode\" in body:\n",
    "                file_type = \"created\"\n",
    "            elif \"similarity index\" in body and \"copy from\" in body:\n",
    "                file_type = \"copied\"\n",
    "            elif \"old mode\" in body and \"new mode\" in body:\n",
    "                file_type = \"permissions changed\"\n",
    "            else:\n",
    "                file_type = \"modified\" if file_a == file_b else \"renamed\"\n",
    "\n",
    "            files.append(file_a)  # Storing file A as the key\n",
    "            file_data.append({\n",
    "                \"type\": file_type,\n",
    "                \"a_diff\": body.split('--- ')[1].split('+++ ')[0] if '--- ' in body and '+++ ' in body else \"\",\n",
    "                \"b_diff\": body.split('+++ ')[1] if '+++ ' in body else \"\",\n",
    "                \"hunks\": parse_hunks(body) if \"@@\" in body else []\n",
    "            })\n",
    "\n",
    "    return {file: data for file, data in zip(files, file_data)}"
   ]
  },
  {
   "cell_type": "markdown",
   "metadata": {},
   "source": [
    "<div class=\"alert alert-info\">\n",
    "    <center><b>Fetching all commits from the database for later usage on the addition of file versions present in the commits to the database</b></center>\n",
    "</div>"
   ]
  },
  {
   "cell_type": "code",
   "execution_count": 8,
   "metadata": {},
   "outputs": [],
   "source": [
    "conn = db_conn('code_samples', 'codesamples', 'codesamples_user')\n",
    "cursor = conn.cursor()\n",
    "\n",
    "cursor.execute(f\"SELECT sha, diff FROM commits;\")\n",
    "commits = cursor.fetchall()\n",
    "\n",
    "cursor.close()"
   ]
  },
  {
   "cell_type": "markdown",
   "metadata": {},
   "source": [
    "<div class=\"alert alert-info\">\n",
    "    <center><b>Adding the versions of files present in all the commits of the database</b></center>\n",
    "</div>"
   ]
  },
  {
   "cell_type": "code",
   "execution_count": 9,
   "metadata": {},
   "outputs": [
    {
     "name": "stderr",
     "output_type": "stream",
     "text": [
      "Adding files to database: 100%|██████████| 30988/30988 [04:39<00:00, 110.86it/s]\n"
     ]
    }
   ],
   "source": [
    "for i in tqdm(range(len(commits)), desc=\"Adding files to database\"):\t\n",
    "    sha = commits[i][0]\n",
    "    message = commits[i][1]\n",
    "    diffs = get_diffs_by_file(message)\n",
    "    for file, diff in diffs.items():\n",
    "        add_file(file, sha, diff, conn)\n",
    "        \n",
    "conn.close()"
   ]
  }
 ],
 "metadata": {
  "kernelspec": {
   "display_name": "Python 3",
   "language": "python",
   "name": "python3"
  },
  "language_info": {
   "codemirror_mode": {
    "name": "ipython",
    "version": 3
   },
   "file_extension": ".py",
   "mimetype": "text/x-python",
   "name": "python",
   "nbconvert_exporter": "python",
   "pygments_lexer": "ipython3",
   "version": "3.12.8"
  }
 },
 "nbformat": 4,
 "nbformat_minor": 2
}
