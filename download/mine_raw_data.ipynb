{
 "cells": [
  {
   "cell_type": "markdown",
   "metadata": {},
   "source": [
    "<div class=\"alert alert-info\">\n",
    "    <center><b>Set up Notebook</b></center>\n",
    "</div>"
   ]
  },
  {
   "cell_type": "code",
   "execution_count": null,
   "metadata": {},
   "outputs": [],
   "source": [
    "%pip install GitPython pandas tqdm pathlib psycopg2 python-dotenv"
   ]
  },
  {
   "cell_type": "code",
   "execution_count": 2,
   "metadata": {},
   "outputs": [],
   "source": [
    "from git import Repo\n",
    "import os\n",
    "import pandas as pd\n",
    "from tqdm import tqdm\n",
    "from datetime import datetime\n",
    "import pytz\n",
    "from dataclasses import dataclass\n",
    "from concurrent.futures import ThreadPoolExecutor, as_completed\n",
    "import subprocess\n",
    "import psycopg2\n",
    "from dotenv import load_dotenv\n",
    "from io import StringIO"
   ]
  },
  {
   "cell_type": "code",
   "execution_count": 3,
   "metadata": {},
   "outputs": [],
   "source": [
    "load_dotenv()\n",
    "DB_PASSWORD = os.getenv('DB_PASSWORD')"
   ]
  },
  {
   "cell_type": "markdown",
   "metadata": {},
   "source": [
    "<div class=\"alert alert-info\">\n",
    "    <center><b>Add class representaion of the commits that'll be stored in the DB</b></center>\n",
    "</div>"
   ]
  },
  {
   "cell_type": "code",
   "execution_count": 4,
   "metadata": {},
   "outputs": [],
   "source": [
    "\n",
    "@dataclass\n",
    "class Commit:\n",
    "    full_path: str\n",
    "    timestamp: datetime\n",
    "    sha: str\n",
    "    message: str\n",
    "    diff: str\n",
    "    ecossystem: str\n",
    "    link: str\n",
    "    \n",
    "    def __str__(self):\n",
    "        return f\"-{self.sha}\\n- {self.message}\\n- {self.timestamp}\\n- {self.diff}\\n- {self.ecossystem}\\n- {self.link}\"\n",
    "    \n",
    "    def __repr__(self):\n",
    "        return self.__str__()"
   ]
  },
  {
   "cell_type": "markdown",
   "metadata": {},
   "source": [
    "<div class=\"alert alert-info\">\n",
    "    <center><b>Add all methods</b></center>\n",
    "</div>"
   ]
  },
  {
   "cell_type": "code",
   "execution_count": 5,
   "metadata": {},
   "outputs": [],
   "source": [
    "def db_conn(db: str, password: str, user: str) -> psycopg2.extensions.connection:\n",
    "    \"\"\"Connects to the specified database.\n",
    "    \n",
    "    Args:\n",
    "        db (str) - The name of the database to connect to.\\n\n",
    "        password (str) - The password for the user to connect with.\\n\n",
    "        user (str) - The user to connect with.\\n\n",
    "    \n",
    "    Returns:\n",
    "        psycopg2.extensions.connection: The connection object.\n",
    "    \"\"\"\n",
    "    return psycopg2.connect(\n",
    "        database = db,\n",
    "        user = user,\n",
    "        host = 'localhost',\n",
    "        password = password,\n",
    "        port = '5432'        \n",
    "    )"
   ]
  },
  {
   "cell_type": "code",
   "execution_count": 6,
   "metadata": {},
   "outputs": [],
   "source": [
    "def clone(git_url: str, repo_dir: str, sample: str) -> None:\n",
    "    '''Clone a git repository and checkout all files in the repository\n",
    "    \n",
    "    Args:\n",
    "        git_url (str) - URL of the git repository\\n\n",
    "        repo_dir (str) - Directory to clone the repository to\\n\n",
    "        sample (str) - Name of the sample\\n\n",
    "        \n",
    "    Returns:\n",
    "        None\n",
    "    '''\n",
    "    repo_path = os.path.join(repo_dir, sample)\n",
    "    os.makedirs(repo_path, exist_ok=True)\n",
    "\n",
    "    repo = Repo.clone_from(git_url, repo_path, multi_options=[\"--no-checkout\"])\n",
    "\n",
    "    try:\n",
    "        repo.git.reset('--hard', 'HEAD')\n",
    "\n",
    "        repo.git.checkout('--', '.')\n",
    "    except Exception as e:\n",
    "        print(f\"Error checking out files for {sample}: {e}\")"
   ]
  },
  {
   "cell_type": "code",
   "execution_count": 7,
   "metadata": {},
   "outputs": [],
   "source": [
    "def download(sample: str) -> None:\n",
    "    '''Download the repository. If the repository is already downloaded,\n",
    "    nothing is done.\n",
    "    \n",
    "    Args:\n",
    "        sample (str) - Name of the sample\n",
    "    \n",
    "    Returns:\n",
    "        None\n",
    "    '''\n",
    "    gitHubUrl = f\"https://github.com/{sample}.git\"\n",
    "    repoDir = \"repositories/\"\n",
    "    isdir = os.path.isdir(repoDir+sample)\n",
    "    if isdir:\n",
    "        return\n",
    "    else:\n",
    "        clone(gitHubUrl, repoDir, sample)"
   ]
  },
  {
   "cell_type": "code",
   "execution_count": 8,
   "metadata": {},
   "outputs": [],
   "source": [
    "def add_commit(commit: Commit) -> None:\n",
    "    conn = db_conn('code_samples', 'codesamples', 'codesamples_user')\n",
    "    conn.autocommit = True\n",
    "    cursor = conn.cursor()\n",
    "    \n",
    "    cursor.execute(f\"\"\"INSERT INTO commits (full_path, timestamp, sha, message, diff, ecossystem, link) VALUES (%s, %s, %s, %s, %s, %s, %s)\"\"\",\n",
    "                (commit.full_path, commit.timestamp, commit.sha, commit.message, commit.diff, commit.ecossystem, commit.link))\n",
    "    conn.commit()\n",
    "    \n",
    "    cursor.close()\n",
    "    conn.close()"
   ]
  },
  {
   "cell_type": "code",
   "execution_count": 9,
   "metadata": {},
   "outputs": [],
   "source": [
    "def is_commit_in_db(commit: Commit) -> bool:\n",
    "    \"\"\"Checks if a commit is already in the database.\n",
    "    \n",
    "    Args:\n",
    "        commit (Commit) - The commit to check.\n",
    "        \n",
    "    Returns:\n",
    "        bool: True if the commit is in the database, False otherwise.\n",
    "    \"\"\"\n",
    "    conn = db_conn('code_samples', 'codesamples', 'codesamples_user')\n",
    "    cursor = conn.cursor()\n",
    "    \n",
    "    cursor.execute(f\"\"\"SELECT 1 FROM commits WHERE sha = '{commit.sha}';\"\"\")\n",
    "    exists = cursor.fetchone()\n",
    "    \n",
    "    cursor.close()\n",
    "    conn.close()\n",
    "    \n",
    "    return exists"
   ]
  },
  {
   "cell_type": "code",
   "execution_count": 10,
   "metadata": {},
   "outputs": [],
   "source": [
    "def add_formatted_commit(commit_text: str, repo_path: str) -> None:\n",
    "    \"\"\"Parses the diff of a commit and adds the whole commit to the database.\n",
    "\n",
    "    Args:\n",
    "        commit_text (str) - The text of the commit to parse.\\n\n",
    "        repo_path (str) - The path to the repository the commit is from.\\n\n",
    "        \n",
    "    Returns:\n",
    "        None\n",
    "    \"\"\"\n",
    "    sha, timestamp, message, diff_lines = None, None, None, []\n",
    "\n",
    "    for line in StringIO(commit_text):\n",
    "        if \"<<DELIM>>\" in line:\n",
    "            if sha:\n",
    "                ecossystem = repo_path.split('\\\\')[1]\n",
    "                link = f\"https://github.com/{ecossystem}/{repo_path.split('\\\\')[2]}/commit/{sha}\"\n",
    "                commit = Commit(repo_path, datetime.fromtimestamp(int(timestamp), tz=pytz.utc),\n",
    "                                sha, message, \"\\n\".join(diff_lines), ecossystem, link)\n",
    "                add_commit(commit)\n",
    "            sha, timestamp, message = line.split(\"<<DELIM>>\")\n",
    "            diff_lines = []\n",
    "        else:\n",
    "            diff_lines.append(line.strip())\n",
    "\n",
    "    if sha:\n",
    "        ecossystem = repo_path.split('\\\\')[1]\n",
    "        link = f\"https://github.com/{ecossystem}/{repo_path.split('\\\\')[2]}/commit/{sha}\"\n",
    "        commit = Commit(repo_path, datetime.fromtimestamp(int(timestamp), tz=pytz.utc),\n",
    "                        sha, message, \"\\n\".join(diff_lines), ecossystem, link)\n",
    "        add_commit(commit)\n"
   ]
  },
  {
   "cell_type": "code",
   "execution_count": 11,
   "metadata": {},
   "outputs": [],
   "source": [
    "def add_all_commits(repo_path: str, cutoff_date: datetime) -> None:\n",
    "    \"\"\"Fetches the commits from a repository that were made before a certain \n",
    "    date and adds them to the database.\n",
    "\n",
    "    Args:\n",
    "        repo_path (str) - The path to the repository to fetch commits from.\\n\n",
    "        cutoff_date (datetime) - The date to fetch commits until.\\n\n",
    "        \n",
    "    Returns:\n",
    "        None\n",
    "    \"\"\"\n",
    "    if not os.path.exists(os.path.join(repo_path, '.git')):\n",
    "        print(f\"Skipping non-Git directory: {repo_path}\")\n",
    "        return\n",
    "\n",
    "    try:\n",
    "        subprocess.check_output([\"git\", \"rev-parse\", \"HEAD\"], cwd=repo_path)\n",
    "    except subprocess.CalledProcessError:\n",
    "        print(f\"Skipping invalid Git repository: {repo_path}\")\n",
    "        return\n",
    "\n",
    "    try:\n",
    "        process = subprocess.Popen(\n",
    "            [\"git\", \"log\", \"--pretty=format:%H<<DELIM>>%ct<<DELIM>>%s\", \"--patch\", f\"--until={cutoff_date.timestamp()}\"],\n",
    "            cwd=repo_path,\n",
    "            stdout=subprocess.PIPE,\n",
    "            stderr=subprocess.PIPE\n",
    "        )\n",
    "        stdout, stderr = process.communicate()\n",
    "\n",
    "        if process.returncode != 0:\n",
    "            print(f\"Error fetching logs for {repo_path}: {stderr.decode('utf-8')}\")\n",
    "            return\n",
    "\n",
    "        commit_info = stdout.decode('utf-8', errors='replace')\n",
    "        add_formatted_commit(commit_info, repo_path)\n",
    "        \n",
    "\n",
    "    except Exception as e:\n",
    "        print(f\"Unexpected error processing {repo_path}: {e}\")"
   ]
  },
  {
   "cell_type": "code",
   "execution_count": 12,
   "metadata": {},
   "outputs": [],
   "source": [
    "def get_all_repos_raw_data(parent_folder: str) -> None:\n",
    "    \"\"\"Processes all repositories in a parent folder and adds all the commits from them.\n",
    "\n",
    "    Args:\n",
    "        parent_folder (str) - The path to the folder containing all repositories.\n",
    "\n",
    "    Returns:\n",
    "        None\n",
    "    \"\"\"\n",
    "    repo_paths = []\n",
    "    \n",
    "    for sub_dir in os.listdir(parent_folder):\n",
    "        sub_dir_path = os.path.join(parent_folder, sub_dir)\n",
    "        if os.path.isdir(sub_dir_path):\n",
    "            for repo_dir in os.listdir(sub_dir_path):\n",
    "                repo_dir_path = os.path.join(sub_dir_path, repo_dir)\n",
    "                if os.path.isdir(repo_dir_path) and os.path.exists(os.path.join(repo_dir_path, '.git')):\n",
    "                    repo_paths.append(repo_dir_path)\n",
    "\n",
    "    with ThreadPoolExecutor(max_workers=26) as executor:\n",
    "        future_to_repo = {executor.submit(add_all_commits, repo, datetime(2024, 9, 19, tzinfo=pytz.UTC)): repo for repo in repo_paths}\n",
    "        for future in tqdm(as_completed(future_to_repo), total=len(future_to_repo), desc=\"Processing Repositories\"):\n",
    "            try:\n",
    "                future.result()\n",
    "            except Exception as e:\n",
    "                print(f\"Error in future: {e}\")"
   ]
  },
  {
   "cell_type": "markdown",
   "metadata": {},
   "source": [
    "<div class=\"alert alert-info\">\n",
    "    <center><b>Set up the database</b></center>\n",
    "</div>"
   ]
  },
  {
   "cell_type": "code",
   "execution_count": 13,
   "metadata": {},
   "outputs": [],
   "source": [
    "conn = db_conn('postgres', DB_PASSWORD, 'postgres')\n",
    "cursor = conn.cursor()\n",
    "conn.autocommit = True\n",
    "\n",
    "cursor.execute(f\"\"\"SELECT 1 FROM pg_catalog.pg_database WHERE datname = 'code_samples';\"\"\")\n",
    "db_exists = cursor.fetchone()\n",
    "\n",
    "if db_exists:\n",
    "    cursor.execute(\"DROP DATABASE code_samples;\")\n",
    "    cursor.execute(\"DROP OWNED BY codesamples_user CASCADE;\")\n",
    "\n",
    "cursor.execute(\"CREATE DATABASE code_samples;\")\n",
    "\n",
    "cursor.execute(f\"\"\"SELECT 1 FROM pg_roles WHERE rolname = 'codesamples_user';\"\"\")\n",
    "user_exists = cursor.fetchone()\n",
    "\n",
    "if not user_exists:\n",
    "    cursor.execute(\"CREATE USER codesamples_user WITH PASSWORD 'codesamples';\")\n",
    "\n",
    "cursor.execute(\"GRANT ALL PRIVILEGES ON DATABASE code_samples TO codesamples_user;\")\n",
    "\n",
    "cursor.close()\n",
    "conn.close()\n",
    "\n",
    "conn = db_conn('code_samples', DB_PASSWORD, 'postgres')\n",
    "conn.autocommit = True\n",
    "cursor = conn.cursor()\n",
    "\n",
    "cursor.execute(\"ALTER SCHEMA public OWNER TO codesamples_user;\")\n",
    "\n",
    "cursor.execute(\"GRANT ALL ON SCHEMA public TO codesamples_user;\")\n",
    "cursor.execute(\"ALTER DEFAULT PRIVILEGES IN SCHEMA public GRANT ALL ON TABLES TO codesamples_user;\")\n",
    "\n",
    "cursor.close()\n",
    "conn.close()\n",
    "\n",
    "conn = db_conn('code_samples', 'codesamples', 'codesamples_user')\n",
    "cursor = conn.cursor()\n",
    "\n",
    "cursor.execute(f\"\"\"CREATE TABLE IF NOT EXISTS commits (\n",
    "     sha TEXT PRIMARY KEY,\n",
    "     full_path TEXT,\n",
    "     ecossystem TEXT,\n",
    "     link TEXT,\n",
    "     timestamp TIMESTAMP,\n",
    "     message TEXT,\n",
    "     diff TEXT\n",
    "     );\"\"\")\n",
    "\n",
    "conn.commit()\n",
    "\n",
    "cursor.execute(f\"\"\"CREATE TABLE IF NOT EXISTS files (\n",
    "    name TEXT,\n",
    "    sha TEXT,\n",
    "    type TEXT,\n",
    "    diff TEXT,\n",
    "    PRIMARY KEY (name, sha),\n",
    "    FOREIGN KEY (sha) REFERENCES code_samples.public.commits(sha)\n",
    "     );\"\"\")\n",
    "\n",
    "conn.commit()\n",
    "\n",
    "cursor.close()\n",
    "conn.close()"
   ]
  },
  {
   "cell_type": "markdown",
   "metadata": {},
   "source": [
    "<div class=\"alert alert-info\">\n",
    "    <center><b>Download all repositories</b></center>\n",
    "</div>"
   ]
  },
  {
   "cell_type": "code",
   "execution_count": 14,
   "metadata": {},
   "outputs": [],
   "source": [
    "repos = pd.read_csv('../code_samples.csv', skiprows=1)\n",
    "repos = repos.dropna(subset=['html_url'])"
   ]
  },
  {
   "cell_type": "code",
   "execution_count": null,
   "metadata": {},
   "outputs": [],
   "source": [
    "for i in tqdm(range(len(repos)), desc=f\"Downloading Repositories\"):\n",
    "    repo = repos.iloc[i]\n",
    "    repo_ecosystem = repo['html_url'].split('/')[-2]\n",
    "    repo_name = repo['name']\n",
    "    sample_name = f\"{repo_ecosystem}/{repo_name}\"\n",
    "    download(sample_name)"
   ]
  },
  {
   "cell_type": "markdown",
   "metadata": {},
   "source": [
    "<div class=\"alert alert-info\">\n",
    "    <center><b>Extract all commits and populate the database with them</b></center>\n",
    "</div>"
   ]
  },
  {
   "cell_type": "code",
   "execution_count": null,
   "metadata": {},
   "outputs": [],
   "source": [
    "all_raw_data = get_all_repos_raw_data(os.path.join('repositories'))"
   ]
  }
 ],
 "metadata": {
  "kernelspec": {
   "display_name": "Python 3",
   "language": "python",
   "name": "python3"
  },
  "language_info": {
   "codemirror_mode": {
    "name": "ipython",
    "version": 3
   },
   "file_extension": ".py",
   "mimetype": "text/x-python",
   "name": "python",
   "nbconvert_exporter": "python",
   "pygments_lexer": "ipython3",
   "version": "3.12.8"
  }
 },
 "nbformat": 4,
 "nbformat_minor": 2
}
