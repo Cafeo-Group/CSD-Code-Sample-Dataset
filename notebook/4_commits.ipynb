{
 "cells": [
  {
   "cell_type": "markdown",
   "metadata": {},
   "source": [
    "<div class=\"alert alert-info\">\n",
    "    <center><b>Set up Notebook</b></center>\n",
    "</div>"
   ]
  },
  {
   "cell_type": "code",
   "execution_count": null,
   "metadata": {},
   "outputs": [],
   "source": [
    "%pip install pandas tqdm python-dotenv"
   ]
  },
  {
   "cell_type": "code",
   "execution_count": null,
   "metadata": {},
   "outputs": [],
   "source": [
    "from tqdm import tqdm\n",
    "from datetime import datetime\n",
    "import pytz\n",
    "from concurrent.futures import ThreadPoolExecutor, as_completed\n",
    "import traceback\n",
    "from typing import List"
   ]
  },
  {
   "cell_type": "code",
   "execution_count": null,
   "metadata": {},
   "outputs": [],
   "source": [
    "from os import path, listdir\n",
    "from sys import path as sys_path\n",
    "parent_dir = path.abspath(path.join('..'))\n",
    "if parent_dir not in sys_path:\n",
    "    sys_path.append(parent_dir)\n",
    "    print(f\"Added {parent_dir.split(\"\\\\\")[-1]} to sys.path\")\n",
    "from models.commit import Commit\n",
    "from utils.worker import get_optimal_max_workers"
   ]
  },
  {
   "cell_type": "markdown",
   "metadata": {},
   "source": [
    "<div class=\"alert alert-info\">\n",
    "    <center><b>Add all methods</b></center>\n",
    "</div>"
   ]
  },
  {
   "cell_type": "code",
   "execution_count": null,
   "metadata": {},
   "outputs": [],
   "source": [
    "max_workers = get_optimal_max_workers()\n",
    "print(max_workers)"
   ]
  },
  {
   "cell_type": "code",
   "execution_count": null,
   "metadata": {},
   "outputs": [],
   "source": [
    "def process_all_commits(parent_folder: str) -> None:\n",
    "    \"\"\"Adds all the commits from the repositories from all organizations downloaded locally.\n",
    "\n",
    "    Args:\n",
    "        parent_folder (str) - The path to the folder containing all organizations.\n",
    "\n",
    "    Returns:\n",
    "        None\n",
    "    \"\"\"\n",
    "    repo_paths = []\n",
    "    \n",
    "    for sub_dir in listdir(parent_folder):\n",
    "        sub_dir_path = path.join(parent_folder, sub_dir)\n",
    "        if path.isdir(sub_dir_path):\n",
    "            for repo_dir in listdir(sub_dir_path):\n",
    "                repo_dir_path = path.join(sub_dir_path, repo_dir)\n",
    "                if path.isdir(repo_dir_path):\n",
    "                    repo_paths.append(repo_dir_path)\n",
    "    \n",
    "    repo_paths = list(set(repo_paths))\n",
    "    \n",
    "    with ThreadPoolExecutor(max_workers=max_workers) as executor:\n",
    "        \n",
    "        future_commits_from_repo = {\n",
    "            executor.submit(Commit.get_commit_data, path.join(parent_folder, repo.split(\"\\\\\")[-2],repo.split(\"\\\\\")[-1]), datetime.now(pytz.timezone(\"UTC\"))\n",
    "            ): repo\n",
    "            for repo in repo_paths\n",
    "        }\n",
    "\n",
    "        for future in tqdm(as_completed(future_commits_from_repo), total=len(future_commits_from_repo), desc=\"Processing repositories\"):\n",
    "            try:\n",
    "                commits_data: List['Commit'] = list(set(future.result()))\n",
    "                executor.submit(Commit.add_commit_in_batches, commits_data)\n",
    "            except Exception as e:\n",
    "                print(f\"Error processing {future_commits_from_repo[future]}: {e}\")\n",
    "                traceback.print_exc()"
   ]
  },
  {
   "cell_type": "markdown",
   "metadata": {},
   "source": [
    "<div class=\"alert alert-info\">\n",
    "    <center><b>Extract all commits and populate the database with them</b></center>\n",
    "</div>"
   ]
  },
  {
   "cell_type": "code",
   "execution_count": null,
   "metadata": {},
   "outputs": [],
   "source": [
    "process_all_commits(path.join('..', 'download', 'orgs'))"
   ]
  }
 ],
 "metadata": {
  "kernelspec": {
   "display_name": "Python 3",
   "language": "python",
   "name": "python3"
  },
  "language_info": {
   "codemirror_mode": {
    "name": "ipython",
    "version": 3
   },
   "file_extension": ".py",
   "mimetype": "text/x-python",
   "name": "python",
   "nbconvert_exporter": "python",
   "pygments_lexer": "ipython3",
   "version": "3.12.10"
  }
 },
 "nbformat": 4,
 "nbformat_minor": 2
}
