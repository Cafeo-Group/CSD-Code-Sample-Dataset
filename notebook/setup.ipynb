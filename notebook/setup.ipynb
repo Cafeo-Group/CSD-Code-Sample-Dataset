{
 "cells": [
  {
   "cell_type": "markdown",
   "metadata": {},
   "source": [
    "<div class=\"alert alert-info\">\n",
    "    <center><b>Set up Notebook</b></center>\n",
    "</div>"
   ]
  },
  {
   "cell_type": "code",
   "execution_count": null,
   "metadata": {},
   "outputs": [],
   "source": [
    "%pip install pandas tqdm pathlib "
   ]
  },
  {
   "cell_type": "code",
   "execution_count": null,
   "metadata": {},
   "outputs": [],
   "source": [
    "import pandas as pd\n",
    "from tqdm import tqdm"
   ]
  },
  {
   "cell_type": "code",
   "execution_count": null,
   "metadata": {},
   "outputs": [],
   "source": [
    "from os import path\n",
    "from sys import path as sys_path\n",
    "parent_dir = path.abspath(path.join('..'))\n",
    "if parent_dir not in sys_path:\n",
    "    sys_path.append(parent_dir)\n",
    "    print(f\"Added {parent_dir.split(\"\\\\\")[-1]} to sys.path\")\n",
    "from utils.postgres import initialize_db\n",
    "from utils.git import download"
   ]
  },
  {
   "cell_type": "markdown",
   "metadata": {},
   "source": [
    "<div class=\"alert alert-info\">\n",
    "    <center><b>Create schema, database and tables</b></center>\n",
    "</div>"
   ]
  },
  {
   "cell_type": "code",
   "execution_count": 4,
   "metadata": {},
   "outputs": [],
   "source": [
    "initialize_db()"
   ]
  },
  {
   "cell_type": "markdown",
   "metadata": {},
   "source": [
    "<div class=\"alert alert-info\">\n",
    "    <center><b>Get repositories data from csv file</b></center>\n",
    "</div>"
   ]
  },
  {
   "cell_type": "code",
   "execution_count": 5,
   "metadata": {},
   "outputs": [],
   "source": [
    "repos = pd.read_csv('../code_samples.csv', skiprows=1)\n",
    "repos = repos.dropna(subset=['html_url'])"
   ]
  },
  {
   "cell_type": "markdown",
   "metadata": {},
   "source": [
    "<div class=\"alert alert-info\">\n",
    "    <center><b>Cloning repositories in a subfolder</b></center>\n",
    "</div>"
   ]
  },
  {
   "cell_type": "code",
   "execution_count": null,
   "metadata": {},
   "outputs": [],
   "source": [
    "for i in tqdm(range(len(repos)), desc=f\"Downloading Repositories\"):\n",
    "    repo = repos.iloc[i]\n",
    "    repo_ecosystem = repo['html_url'].split('/')[-2]\n",
    "    repo_name = repo['name']\n",
    "    sample_name = f\"{repo_ecosystem}/{repo_name}\"\n",
    "    download(sample_name)"
   ]
  }
 ],
 "metadata": {
  "kernelspec": {
   "display_name": "Python 3",
   "language": "python",
   "name": "python3"
  },
  "language_info": {
   "codemirror_mode": {
    "name": "ipython",
    "version": 3
   },
   "file_extension": ".py",
   "mimetype": "text/x-python",
   "name": "python",
   "nbconvert_exporter": "python",
   "pygments_lexer": "ipython3",
   "version": "3.12.8"
  }
 },
 "nbformat": 4,
 "nbformat_minor": 2
}
