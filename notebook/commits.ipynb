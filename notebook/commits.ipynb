{
 "cells": [
  {
   "cell_type": "markdown",
   "metadata": {},
   "source": [
    "<div class=\"alert alert-info\">\n",
    "    <center><b>Set up Notebook</b></center>\n",
    "</div>"
   ]
  },
  {
   "cell_type": "code",
   "execution_count": 1,
   "metadata": {},
   "outputs": [
    {
     "name": "stdout",
     "output_type": "stream",
     "text": [
      "Defaulting to user installation because normal site-packages is not writeable\n",
      "Requirement already satisfied: pandas in c:\\users\\oheit\\appdata\\local\\packages\\pythonsoftwarefoundation.python.3.12_qbz5n2kfra8p0\\localcache\\local-packages\\python312\\site-packages (2.2.2)\n",
      "Requirement already satisfied: tqdm in c:\\users\\oheit\\appdata\\local\\packages\\pythonsoftwarefoundation.python.3.12_qbz5n2kfra8p0\\localcache\\local-packages\\python312\\site-packages (4.66.4)\n",
      "Requirement already satisfied: python-dotenv in c:\\users\\oheit\\appdata\\local\\packages\\pythonsoftwarefoundation.python.3.12_qbz5n2kfra8p0\\localcache\\local-packages\\python312\\site-packages (1.0.1)\n",
      "Requirement already satisfied: numpy>=1.26.0 in c:\\users\\oheit\\appdata\\local\\packages\\pythonsoftwarefoundation.python.3.12_qbz5n2kfra8p0\\localcache\\local-packages\\python312\\site-packages (from pandas) (1.26.4)\n",
      "Requirement already satisfied: python-dateutil>=2.8.2 in c:\\users\\oheit\\appdata\\local\\packages\\pythonsoftwarefoundation.python.3.12_qbz5n2kfra8p0\\localcache\\local-packages\\python312\\site-packages (from pandas) (2.9.0.post0)\n",
      "Requirement already satisfied: pytz>=2020.1 in c:\\users\\oheit\\appdata\\local\\packages\\pythonsoftwarefoundation.python.3.12_qbz5n2kfra8p0\\localcache\\local-packages\\python312\\site-packages (from pandas) (2024.1)\n",
      "Requirement already satisfied: tzdata>=2022.7 in c:\\users\\oheit\\appdata\\local\\packages\\pythonsoftwarefoundation.python.3.12_qbz5n2kfra8p0\\localcache\\local-packages\\python312\\site-packages (from pandas) (2024.1)\n",
      "Requirement already satisfied: colorama in c:\\users\\oheit\\appdata\\local\\packages\\pythonsoftwarefoundation.python.3.12_qbz5n2kfra8p0\\localcache\\local-packages\\python312\\site-packages (from tqdm) (0.4.6)\n",
      "Requirement already satisfied: six>=1.5 in c:\\users\\oheit\\appdata\\local\\packages\\pythonsoftwarefoundation.python.3.12_qbz5n2kfra8p0\\localcache\\local-packages\\python312\\site-packages (from python-dateutil>=2.8.2->pandas) (1.16.0)\n",
      "Note: you may need to restart the kernel to use updated packages.\n"
     ]
    }
   ],
   "source": [
    "%pip install pandas tqdm python-dotenv"
   ]
  },
  {
   "cell_type": "code",
   "execution_count": 2,
   "metadata": {},
   "outputs": [],
   "source": [
    "import pandas as pd\n",
    "from tqdm import tqdm\n",
    "from datetime import datetime\n",
    "import pytz\n",
    "from concurrent.futures import ThreadPoolExecutor, as_completed"
   ]
  },
  {
   "cell_type": "code",
   "execution_count": 3,
   "metadata": {},
   "outputs": [
    {
     "name": "stdout",
     "output_type": "stream",
     "text": [
      "Added finer to sys.path\n"
     ]
    }
   ],
   "source": [
    "from os import path, listdir\n",
    "from sys import path as sys_path\n",
    "parent_dir = path.abspath(path.join('..'))\n",
    "if parent_dir not in sys_path:\n",
    "    sys_path.append(parent_dir)\n",
    "    print(f\"Added {parent_dir.split(\"\\\\\")[-1]} to sys.path\")\n",
    "from models.commit import Commit\n",
    "from models.repository import Repository"
   ]
  },
  {
   "cell_type": "markdown",
   "metadata": {},
   "source": [
    "<div class=\"alert alert-info\">\n",
    "    <center><b>Add all methods</b></center>\n",
    "</div>"
   ]
  },
  {
   "cell_type": "code",
   "execution_count": 4,
   "metadata": {},
   "outputs": [],
   "source": [
    "def test_process_all_commits(parent_folder: str) -> None:\n",
    "    \"\"\"Processes all repositories in a parent folder and adds all the commits from them.\n",
    "\n",
    "    Args:\n",
    "        parent_folder (str) - The path to the folder containing all repositories.\n",
    "\n",
    "    Returns:\n",
    "        None\n",
    "    \"\"\"\n",
    "    repo_paths = []\n",
    "    \n",
    "    for sub_dir in listdir(parent_folder):\n",
    "        sub_dir_path = path.join(parent_folder, sub_dir)\n",
    "        if path.isdir(sub_dir_path):\n",
    "            for repo_dir in listdir(sub_dir_path):\n",
    "                repo_dir_path = path.join(sub_dir_path, repo_dir)\n",
    "                if path.isdir(repo_dir_path) and path.exists(path.join(repo_dir_path, '.git')):\n",
    "                    repo_paths.append(repo_dir_path)\n",
    "                    \n",
    "    repo_paths = list(set(repo_paths))\n",
    "    \n",
    "    with ThreadPoolExecutor(max_workers=3) as executor:\n",
    "        future_commits_from_repo = {\n",
    "            executor.submit(\n",
    "                Commit.get_commit_data,\n",
    "                path.join(\n",
    "                    parent_folder,\n",
    "                    repo.split(\"\\\\\")[-2],\n",
    "                    repo.split(\"\\\\\")[-1]\n",
    "                ),\n",
    "                f\"https://github.com/{repo.split('\\\\')[-2]}/{repo.split('\\\\')[-1]}\",\n",
    "                datetime(2024, 9, 19, tzinfo=pytz.UTC)\n",
    "            ): repo\n",
    "            for repo in tqdm(repo_paths, total=len(repo_paths))\n",
    "        }\n",
    "\n",
    "        for future in tqdm(as_completed(future_commits_from_repo), total=len(future_commits_from_repo), desc=\"Processing Commits\"):\n",
    "            repo = future_commits_from_repo[future]\n",
    "            try:\n",
    "                commits_data = future.result()\n",
    "                with ThreadPoolExecutor(max_workers=16) as executor:\n",
    "                    future_add_commit = {\n",
    "                        executor.submit(\n",
    "                            Commit.add_commit,\n",
    "                            commit_data\n",
    "                        ): commit_data\n",
    "                        for commit_data in commits_data\n",
    "                    }\n",
    "                    for future_commit in as_completed(future_add_commit):\n",
    "                        try:\n",
    "                            future_commit.result()\n",
    "                        except Exception as e:\n",
    "                            print(f\"Error adding commit: {e}\")\n",
    "            except Exception as e:\n",
    "                print(f\"Error processing {repo}: {e}\")\n"
   ]
  },
  {
   "cell_type": "markdown",
   "metadata": {},
   "source": [
    "<div class=\"alert alert-info\">\n",
    "    <center><b>Extract all commits and populate the database with them</b></center>\n",
    "</div>"
   ]
  },
  {
   "cell_type": "code",
   "execution_count": 5,
   "metadata": {},
   "outputs": [
    {
     "name": "stderr",
     "output_type": "stream",
     "text": [
      "Processing Repositories: 100%|██████████| 343/343 [00:00<00:00, 20963.88it/s]\n",
      "Processing Commits: 100%|██████████| 343/343 [12:10<00:00,  2.13s/it]\n"
     ]
    }
   ],
   "source": [
    "test_process_all_commits(path.join('..', 'download', 'orgs'))"
   ]
  }
 ],
 "metadata": {
  "kernelspec": {
   "display_name": "Python 3",
   "language": "python",
   "name": "python3"
  },
  "language_info": {
   "codemirror_mode": {
    "name": "ipython",
    "version": 3
   },
   "file_extension": ".py",
   "mimetype": "text/x-python",
   "name": "python",
   "nbconvert_exporter": "python",
   "pygments_lexer": "ipython3",
   "version": "3.12.8"
  }
 },
 "nbformat": 4,
 "nbformat_minor": 2
}
