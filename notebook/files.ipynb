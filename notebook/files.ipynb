{
 "cells": [
  {
   "cell_type": "code",
   "execution_count": null,
   "metadata": {},
   "outputs": [],
   "source": [
    "%pip install tqdm"
   ]
  },
  {
   "cell_type": "code",
   "execution_count": null,
   "metadata": {},
   "outputs": [],
   "source": [
    "from tqdm import tqdm\n",
    "from concurrent.futures import ThreadPoolExecutor, as_completed"
   ]
  },
  {
   "cell_type": "code",
   "execution_count": null,
   "metadata": {},
   "outputs": [],
   "source": [
    "from os import path\n",
    "from sys import path as sys_path\n",
    "parent_dir = path.abspath(path.join('..'))\n",
    "if parent_dir not in sys_path:\n",
    "    sys_path.append(parent_dir)\n",
    "    print(f\"Added {parent_dir.split(\"\\\\\")[-1]} to sys.path\")\n",
    "from models.commit import Commit\n",
    "from models.file import File\n",
    "from utils.worker import get_optimal_max_workers"
   ]
  },
  {
   "cell_type": "code",
   "execution_count": null,
   "metadata": {},
   "outputs": [],
   "source": [
    "commits = Commit.fetch_all_commits()\n",
    "parent_folder = path.join('..', 'download', 'orgs')\n",
    "max_workers = get_optimal_max_workers()"
   ]
  },
  {
   "cell_type": "code",
   "execution_count": null,
   "metadata": {},
   "outputs": [],
   "source": [
    "with ThreadPoolExecutor(max_workers=max_workers) as executor:\n",
    "    futures = {executor.submit(Commit.get_file_names_from_commit, path.join(parent_folder, com.org_name, com.repo_name), com.sha): com for com in commits}\n",
    "    new_files_candidates = []\n",
    "    for future in tqdm(as_completed(futures), total=len(futures), desc=\"Processing files\"):\n",
    "        com = futures[future]\n",
    "        try:\n",
    "            file_names = future.result()\n",
    "            if file_names:\n",
    "                for name in file_names:\n",
    "                    file_data = File(name, com.repo_name, com.org_name, name.split('.')[-1].lower())\n",
    "                    new_files_candidates.append(file_data)\n",
    "        except Exception as e:\n",
    "            print(f\"Error processing file {com.sha}: {e}\")\n",
    "    if new_files_candidates:\n",
    "        exist_file_flags = File.exists_in_batches(new_files_candidates)\n",
    "        new_files = [f for f, exists in zip(new_files_candidates, exist_file_flags) if not exists]\n",
    "\n",
    "        if new_files:\n",
    "            File.add_files_in_batches(new_files)"
   ]
  }
 ],
 "metadata": {
  "kernelspec": {
   "display_name": "Python 3",
   "language": "python",
   "name": "python3"
  },
  "language_info": {
   "codemirror_mode": {
    "name": "ipython",
    "version": 3
   },
   "file_extension": ".py",
   "mimetype": "text/x-python",
   "name": "python",
   "nbconvert_exporter": "python",
   "pygments_lexer": "ipython3",
   "version": "3.12.10"
  }
 },
 "nbformat": 4,
 "nbformat_minor": 2
}
