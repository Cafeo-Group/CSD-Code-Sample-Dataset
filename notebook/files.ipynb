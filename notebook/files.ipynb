{
 "cells": [
  {
   "cell_type": "code",
   "execution_count": null,
   "metadata": {},
   "outputs": [],
   "source": [
    "%pip install tqdm"
   ]
  },
  {
   "cell_type": "code",
   "execution_count": null,
   "metadata": {},
   "outputs": [],
   "source": [
    "from tqdm import tqdm\n",
    "from concurrent.futures import ThreadPoolExecutor, as_completed"
   ]
  },
  {
   "cell_type": "code",
   "execution_count": null,
   "metadata": {},
   "outputs": [],
   "source": [
    "from os import path\n",
    "from sys import path as sys_path\n",
    "parent_dir = path.abspath(path.join('..'))\n",
    "if parent_dir not in sys_path:\n",
    "    sys_path.append(parent_dir)\n",
    "    print(f\"Added {parent_dir.split(\"\\\\\")[-1]} to sys.path\")\n",
    "from models.commit import Commit\n",
    "from models.file import File"
   ]
  },
  {
   "cell_type": "code",
   "execution_count": null,
   "metadata": {},
   "outputs": [],
   "source": [
    "def process_commit(com: Commit):\n",
    "    repo_path = path.join('..', 'download', 'orgs', com.org_name, com.repo_name)\n",
    "    \n",
    "    processed_files = set()\n",
    "    \n",
    "    futures = set()\n",
    "    \n",
    "    with ThreadPoolExecutor(max_workers=25) as executor:\n",
    "        for file in com.files:\n",
    "            file_key = (file, com.sha, com.repo_name, com.org_name)\n",
    "            if file_key in processed_files:\n",
    "                continue\n",
    "            processed_files.add(file_key)\n",
    "            futures.add(executor.submit(File.get_file_content, repo_path, com.sha, file))\n",
    "        \n",
    "        if File.exists_in_batches(processed_files):\n",
    "            return\n",
    "        \n",
    "        files_to_db = []\n",
    "        for future in as_completed(futures):\n",
    "            file_content, file_name = future.result()\n",
    "            file_to_db = File(file_name, com.sha, com.repo_name, com.org_name, file_name.split('.')[-1].lower(), file_content)\n",
    "            files_to_db.append(file_to_db)\n",
    "        \n",
    "        if files_to_db:\n",
    "            File.add_files_in_batches(files_to_db)\n"
   ]
  },
  {
   "cell_type": "code",
   "execution_count": null,
   "metadata": {},
   "outputs": [],
   "source": [
    "commits = Commit.fetch_all_commits()\n",
    "parent_folder = path.join('..', 'download', 'orgs')"
   ]
  },
  {
   "cell_type": "code",
   "execution_count": null,
   "metadata": {},
   "outputs": [],
   "source": [
    "for com in tqdm(commits, total=len(commits), desc=\"Processing commits\"):\n",
    "    if com.files:\n",
    "        process_commit(com)"
   ]
  }
 ],
 "metadata": {
  "kernelspec": {
   "display_name": "Python 3",
   "language": "python",
   "name": "python3"
  },
  "language_info": {
   "codemirror_mode": {
    "name": "ipython",
    "version": 3
   },
   "file_extension": ".py",
   "mimetype": "text/x-python",
   "name": "python",
   "nbconvert_exporter": "python",
   "pygments_lexer": "ipython3",
   "version": "3.12.9"
  }
 },
 "nbformat": 4,
 "nbformat_minor": 2
}
