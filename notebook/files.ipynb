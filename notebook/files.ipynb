{
 "cells": [
  {
   "cell_type": "code",
   "execution_count": null,
   "metadata": {},
   "outputs": [],
   "source": [
    "%pip install tqdm"
   ]
  },
  {
   "cell_type": "code",
   "execution_count": 2,
   "metadata": {},
   "outputs": [],
   "source": [
    "from tqdm import tqdm"
   ]
  },
  {
   "cell_type": "code",
   "execution_count": null,
   "metadata": {},
   "outputs": [],
   "source": [
    "from os import path\n",
    "from sys import path as sys_path\n",
    "parent_dir = path.abspath(path.join('..'))\n",
    "if parent_dir not in sys_path:\n",
    "    sys_path.append(parent_dir)\n",
    "    print(f\"Added {parent_dir.split(\"\\\\\")[-1]} to sys.path\")\n",
    "from models.commit import Commit\n",
    "from models.file import File"
   ]
  },
  {
   "cell_type": "code",
   "execution_count": null,
   "metadata": {},
   "outputs": [],
   "source": [
    "commits = Commit.fetch_all_commits()\n",
    "parent_folder = path.join('..', 'download', 'orgs')\n",
    "\n",
    "for com in tqdm(commits, total=len(commits), desc='Fetching files'):\n",
    "    for file in com.files:\n",
    "        repo_path = path.join(parent_folder, com.org_name, com.repo_name)\n",
    "        file_content = File.get_file_content_by_local_git(repo_path, com.sha, file)\n",
    "        if file_content is None:\n",
    "            file_content = \"Couldn't retrieve content\"\n",
    "        file_to_db = File(file, com.sha, com.repo_name, file.split('.')[-1].lower(), file_content)\n",
    "        File.add_file(file_to_db)"
   ]
  }
 ],
 "metadata": {
  "kernelspec": {
   "display_name": "Python 3",
   "language": "python",
   "name": "python3"
  },
  "language_info": {
   "codemirror_mode": {
    "name": "ipython",
    "version": 3
   },
   "file_extension": ".py",
   "mimetype": "text/x-python",
   "name": "python",
   "nbconvert_exporter": "python",
   "pygments_lexer": "ipython3",
   "version": "3.12.8"
  }
 },
 "nbformat": 4,
 "nbformat_minor": 2
}
