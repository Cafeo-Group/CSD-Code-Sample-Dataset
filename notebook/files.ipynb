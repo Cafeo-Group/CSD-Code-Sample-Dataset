{
 "cells": [
  {
   "cell_type": "code",
   "execution_count": null,
   "metadata": {},
   "outputs": [],
   "source": [
    "%pip install tqdm"
   ]
  },
  {
   "cell_type": "code",
   "execution_count": null,
   "metadata": {},
   "outputs": [],
   "source": [
    "from tqdm import tqdm\n",
    "from concurrent.futures import ThreadPoolExecutor, as_completed"
   ]
  },
  {
   "cell_type": "code",
   "execution_count": null,
   "metadata": {},
   "outputs": [],
   "source": [
    "from os import path\n",
    "from sys import path as sys_path\n",
    "parent_dir = path.abspath(path.join('..'))\n",
    "if parent_dir not in sys_path:\n",
    "    sys_path.append(parent_dir)\n",
    "    print(f\"Added {parent_dir.split(\"\\\\\")[-1]} to sys.path\")\n",
    "from models.commit import Commit\n",
    "from models.file import File\n",
    "from typing import List"
   ]
  },
  {
   "cell_type": "code",
   "execution_count": null,
   "metadata": {},
   "outputs": [],
   "source": [
    "def process_files(files: List['File'], com: Commit):\n",
    "    for file in files:\n",
    "        file_data = File(file, com.repo_name, com.org_name, file.split('.')[-1].lower())\n",
    "        File.add_file(file_data)"
   ]
  },
  {
   "cell_type": "code",
   "execution_count": null,
   "metadata": {},
   "outputs": [],
   "source": [
    "commits = Commit.fetch_all_commits()\n",
    "parent_folder = path.join('..', 'download', 'orgs')"
   ]
  },
  {
   "cell_type": "code",
   "execution_count": null,
   "metadata": {},
   "outputs": [],
   "source": [
    "# def exec_task(com: 'Commit'):\n",
    "#     files = Commit.get_file_names_from_git(path.join(parent_folder, com.org_name, com.repo_name), com.sha)\n",
    "#     if not files:\n",
    "#         return\n",
    "#     process_commit(files, com)\n",
    "\n",
    "# with ThreadPoolExecutor(max_workers=15) as executor:\n",
    "#     futures = {executor.submit(exec_task, com): com for com in tqdm(commits, total=len(commits))}\n",
    "    \n",
    "#     for future in tqdm(as_completed(futures), total=len(futures)):\n",
    "#         future.result()\n",
    "\n",
    "for com in commits:\n",
    "    files = Commit.get_file_names_from_git(path.join(parent_folder, com.org_name, com.repo_name), com.sha)\n",
    "    if not files:\n",
    "        continue\n",
    "    process_files(files, com)"
   ]
  }
 ],
 "metadata": {
  "kernelspec": {
   "display_name": "Python 3",
   "language": "python",
   "name": "python3"
  },
  "language_info": {
   "codemirror_mode": {
    "name": "ipython",
    "version": 3
   },
   "file_extension": ".py",
   "mimetype": "text/x-python",
   "name": "python",
   "nbconvert_exporter": "python",
   "pygments_lexer": "ipython3",
   "version": "3.12.10"
  }
 },
 "nbformat": 4,
 "nbformat_minor": 2
}
