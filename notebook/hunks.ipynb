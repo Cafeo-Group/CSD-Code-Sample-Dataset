{
 "cells": [
  {
   "cell_type": "code",
   "execution_count": null,
   "metadata": {},
   "outputs": [],
   "source": [
    "%pip install tqdm"
   ]
  },
  {
   "cell_type": "code",
   "execution_count": null,
   "metadata": {},
   "outputs": [],
   "source": [
    "from tqdm import tqdm\n",
    "from concurrent.futures import ThreadPoolExecutor, as_completed"
   ]
  },
  {
   "cell_type": "code",
   "execution_count": null,
   "metadata": {},
   "outputs": [],
   "source": [
    "from os import path\n",
    "from sys import path as sys_path\n",
    "parent_dir = path.abspath(path.join('..'))\n",
    "if parent_dir not in sys_path:\n",
    "    sys_path.append(parent_dir)\n",
    "    print(f\"Added {parent_dir.split(\"\\\\\")[-1]} to sys.path\")\n",
    "from models.commit import Commit\n",
    "from models.file import File\n",
    "from models.cf import CommitFile, MetadataHelper\n",
    "from models.hunk import Hunk\n",
    "from utils.worker import get_optimal_max_workers\n",
    "from typing import List"
   ]
  },
  {
   "cell_type": "code",
   "execution_count": null,
   "metadata": {},
   "outputs": [],
   "source": [
    "commits = Commit.fetch_all_commits()\n",
    "parent_folder = path.join('..', 'download', 'orgs')\n",
    "max_workers = get_optimal_max_workers()"
   ]
  },
  {
   "cell_type": "code",
   "execution_count": null,
   "metadata": {},
   "outputs": [],
   "source": [
    "def process_hunks(hunks: List['Hunk']):\n",
    "    with ThreadPoolExecutor(max_workers=max_workers) as executor:\n",
    "        executor.submit(Hunk.add_hunks_in_batches, hunks)"
   ]
  },
  {
   "cell_type": "code",
   "execution_count": null,
   "metadata": {},
   "outputs": [],
   "source": [
    "def create_hunks(file_names: List[str], com: Commit, parent_dir: str):\n",
    "    repo_path = path.join(parent_dir, com.org_name, com.repo_name)\n",
    "    \n",
    "    futures = []\n",
    "    \n",
    "    with ThreadPoolExecutor(max_workers=max_workers) as executor:\n",
    "        for name in file_names:\n",
    "            futures.append(executor.submit(File.get_file_content, repo_path, com.sha, name))\n",
    "\n",
    "        db_hunks = []\n",
    "        for future in as_completed(futures):\n",
    "            _, file_name = future.result()\n",
    "            metadata_list: List[MetadataHelper] = CommitFile.get_metadata(com.org_name, com.repo_name, com.sha, file_name)\n",
    "            for metadata in metadata_list:\n",
    "                hunks_to_db = Hunk(None,file_name,com.repo_name,com.org_name,com.sha,metadata.old_start,metadata.old_length,metadata.new_start,metadata.new_length, metadata.lines,metadata.old_name,metadata.new_name)\n",
    "                db_hunks.append(hunks_to_db)\n",
    "\n",
    "        if db_hunks:\n",
    "            process_hunks(db_hunks)"
   ]
  },
  {
   "cell_type": "code",
   "execution_count": null,
   "metadata": {},
   "outputs": [],
   "source": [
    "hunk_candidates = []"
   ]
  },
  {
   "cell_type": "code",
   "execution_count": null,
   "metadata": {},
   "outputs": [],
   "source": [
    "with ThreadPoolExecutor(max_workers=max_workers) as executor:\n",
    "    futures = {executor.submit(Commit.get_file_names_from_commit, path.join(parent_folder, com.org_name, com.repo_name), com.sha): com for com in commits}\n",
    "    for future in tqdm(as_completed(futures), total=len(futures), desc=\"Generating hunk candidates\"):\n",
    "        com = futures[future]\n",
    "        try:\n",
    "            file_names = future.result()\n",
    "            if file_names:\n",
    "                hunk_candidates.extend([(file_names, com)])\n",
    "        except Exception as e:\n",
    "            print(f\"Error processing file {com.sha}: {e}\")\n",
    "print(len(hunk_candidates), \"candidates\")"
   ]
  },
  {
   "cell_type": "code",
   "execution_count": null,
   "metadata": {},
   "outputs": [],
   "source": [
    "if hunk_candidates:\n",
    "    with ThreadPoolExecutor(max_workers=max_workers) as executor:\n",
    "        futures = [\n",
    "            executor.submit(create_hunks, files, com, parent_folder)\n",
    "            for files, com in tqdm(hunk_candidates, desc=\"Creating hunks\", total=len(hunk_candidates))\n",
    "        ]\n",
    "\n",
    "        for _ in tqdm(as_completed(futures), total=len(futures), desc=\"Completed futures\"):\n",
    "            pass"
   ]
  }
 ],
 "metadata": {
  "kernelspec": {
   "display_name": "Python 3",
   "language": "python",
   "name": "python3"
  },
  "language_info": {
   "codemirror_mode": {
    "name": "ipython",
    "version": 3
   },
   "file_extension": ".py",
   "mimetype": "text/x-python",
   "name": "python",
   "nbconvert_exporter": "python",
   "pygments_lexer": "ipython3",
   "version": "3.12.10"
  }
 },
 "nbformat": 4,
 "nbformat_minor": 2
}
