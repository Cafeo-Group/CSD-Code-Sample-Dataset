{
 "cells": [
  {
   "cell_type": "code",
   "execution_count": 1,
   "metadata": {},
   "outputs": [
    {
     "name": "stdout",
     "output_type": "stream",
     "text": [
      "Defaulting to user installation because normal site-packages is not writeable\n",
      "Requirement already satisfied: tqdm in c:\\users\\oheit\\appdata\\local\\packages\\pythonsoftwarefoundation.python.3.12_qbz5n2kfra8p0\\localcache\\local-packages\\python312\\site-packages (4.66.4)\n",
      "Requirement already satisfied: colorama in c:\\users\\oheit\\appdata\\local\\packages\\pythonsoftwarefoundation.python.3.12_qbz5n2kfra8p0\\localcache\\local-packages\\python312\\site-packages (from tqdm) (0.4.6)\n",
      "Note: you may need to restart the kernel to use updated packages.\n"
     ]
    },
    {
     "name": "stderr",
     "output_type": "stream",
     "text": [
      "\n",
      "[notice] A new release of pip is available: 24.3.1 -> 25.0\n",
      "[notice] To update, run: C:\\Users\\oheit\\AppData\\Local\\Microsoft\\WindowsApps\\PythonSoftwareFoundation.Python.3.12_qbz5n2kfra8p0\\python.exe -m pip install --upgrade pip\n"
     ]
    }
   ],
   "source": [
    "%pip install tqdm"
   ]
  },
  {
   "cell_type": "code",
   "execution_count": 2,
   "metadata": {},
   "outputs": [],
   "source": [
    "from tqdm import tqdm\n",
    "from concurrent.futures import ThreadPoolExecutor, as_completed"
   ]
  },
  {
   "cell_type": "code",
   "execution_count": 3,
   "metadata": {},
   "outputs": [
    {
     "name": "stdout",
     "output_type": "stream",
     "text": [
      "Added finer to sys.path\n"
     ]
    }
   ],
   "source": [
    "from os import path\n",
    "from sys import path as sys_path\n",
    "parent_dir = path.abspath(path.join('..'))\n",
    "if parent_dir not in sys_path:\n",
    "    sys_path.append(parent_dir)\n",
    "    print(f\"Added {parent_dir.split(\"\\\\\")[-1]} to sys.path\")\n",
    "from models.file import File\n",
    "from models.hunk import Hunk"
   ]
  },
  {
   "cell_type": "code",
   "execution_count": null,
   "metadata": {},
   "outputs": [],
   "source": [
    "all_files = File.fetch_all()"
   ]
  },
  {
   "cell_type": "code",
   "execution_count": null,
   "metadata": {},
   "outputs": [],
   "source": [
    "def process_hunk(file):\n",
    "    org = file.org_name\n",
    "    repo = file.repo_name\n",
    "    commit = file.sha\n",
    "    file_path = file.file_name\n",
    "    \n",
    "    hunks = Hunk.get_diffs_from_file_in_commit(org, repo, commit, file_path)\n",
    "    \n",
    "    if hunks:\n",
    "        for hunk in hunks:\n",
    "            Hunk.add_hunk(hunk)"
   ]
  },
  {
   "cell_type": "code",
   "execution_count": null,
   "metadata": {},
   "outputs": [
    {
     "name": "stderr",
     "output_type": "stream",
     "text": [
      "Processing hunks:   2%|▏         | 2827/144105 [00:46<26:06, 90.16it/s]  "
     ]
    },
    {
     "name": "stdout",
     "output_type": "stream",
     "text": [
      "aws-samples amazon-s3-resumable-upload 7fa2c3368b1c3df4e2c355c247216ae8593d83ce \"single_node/requestPayer-exampleCodeFrom-\\344\\270\\201\\345\\217\\257_s3_download.py\"\n"
     ]
    },
    {
     "name": "stderr",
     "output_type": "stream",
     "text": [
      "Processing hunks:   2%|▏         | 3214/144105 [00:53<39:38, 59.23it/s]  "
     ]
    },
    {
     "name": "stdout",
     "output_type": "stream",
     "text": [
      "aws-samples amazon-s3-resumable-upload f3146dd5e68f300b5402dde58e523ba7ba1d1dee \"single_node/requestPayer-exampleCodeFrom-\\344\\270\\201\\345\\217\\257_s3_download.py\"\n"
     ]
    },
    {
     "name": "stderr",
     "output_type": "stream",
     "text": [
      "Processing hunks:  60%|█████▉    | 86177/144105 [29:20<24:00, 40.22it/s]   "
     ]
    },
    {
     "name": "stdout",
     "output_type": "stream",
     "text": [
      "spring-guides gs-spring-data-reactive-redis 92693c7cb486acaa4ce2f58a57c112f334e9cd30 :q\n"
     ]
    },
    {
     "name": "stderr",
     "output_type": "stream",
     "text": [
      "Processing hunks:  60%|█████▉    | 86257/144105 [29:22<26:57, 35.77it/s]"
     ]
    },
    {
     "name": "stdout",
     "output_type": "stream",
     "text": [
      "spring-guides gs-spring-data-reactive-redis b77f58399edd3a9fee2f0f54bd212453fb6a3938 :q\n"
     ]
    },
    {
     "name": "stderr",
     "output_type": "stream",
     "text": [
      "Processing hunks: 100%|██████████| 144105/144105 [46:52<00:00, 51.24it/s] \n"
     ]
    }
   ],
   "source": [
    "with ThreadPoolExecutor(max_workers=20) as executor:\n",
    "    futures = {executor.submit(process_hunk, file): file for file in all_files}\n",
    "    for future in tqdm(as_completed(futures), total=len(futures), desc=\"Processing hunks\"):\n",
    "        pass"
   ]
  },
  {
   "cell_type": "code",
   "execution_count": 6,
   "metadata": {},
   "outputs": [
    {
     "name": "stdout",
     "output_type": "stream",
     "text": [
      "236683\n"
     ]
    }
   ],
   "source": [
    "all_hunks = Hunk.fetch_all()\n",
    "print(len(all_hunks))"
   ]
  }
 ],
 "metadata": {
  "kernelspec": {
   "display_name": "Python 3",
   "language": "python",
   "name": "python3"
  },
  "language_info": {
   "codemirror_mode": {
    "name": "ipython",
    "version": 3
   },
   "file_extension": ".py",
   "mimetype": "text/x-python",
   "name": "python",
   "nbconvert_exporter": "python",
   "pygments_lexer": "ipython3",
   "version": "3.12.9"
  }
 },
 "nbformat": 4,
 "nbformat_minor": 2
}
