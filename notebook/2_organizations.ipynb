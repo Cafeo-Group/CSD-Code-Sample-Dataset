{
 "cells": [
  {
   "cell_type": "markdown",
   "metadata": {},
   "source": [
    "<div class=\"alert alert-info\">\n",
    "    <center><b>Set up Notebook</b></center>\n",
    "</div>"
   ]
  },
  {
   "cell_type": "code",
   "execution_count": null,
   "metadata": {},
   "outputs": [],
   "source": [
    "from os import path, listdir\n",
    "from sys import path as sys_path\n",
    "parent_dir = path.abspath(path.join('..'))\n",
    "if parent_dir not in sys_path:\n",
    "    sys_path.append(parent_dir)\n",
    "    print(f\"Added {parent_dir.split(\"\\\\\")[-1]} to sys.path\")\n",
    "from models.organization import Organization"
   ]
  },
  {
   "cell_type": "markdown",
   "metadata": {},
   "source": [
    "<div class=\"alert alert-info\">\n",
    "    <center><b>Saving all current organizations in the database</b></center>\n",
    "</div>"
   ]
  },
  {
   "cell_type": "code",
   "execution_count": null,
   "metadata": {},
   "outputs": [],
   "source": [
    "parent_folder = path.join('..', 'download', 'orgs')\n",
    "\n",
    "for sub_dir in listdir(parent_folder):\n",
    "        sub_dir_path = path.join(parent_folder, sub_dir)\n",
    "        if path.isdir(sub_dir_path):\n",
    "            \n",
    "            eco_org_dict = {\n",
    "                \"aws-samples\": \"Amazon AWS\",\n",
    "                \"Azure-Samples\": \"Microsoft Azure\",\n",
    "                \"googlesamples\": \"Google Android\",\n",
    "                \"spring-guides\": \"Spring Boot\",\n",
    "                \"spring-cloud-samples\": \"Spring Boot\",\n",
    "            }\n",
    "            \n",
    "            org_name = sub_dir_path.split('\\\\')[-1]\n",
    "            url = f\"https://github.com/{org_name}\"\n",
    "            org = Organization(org_name, eco_org_dict[org_name], url)\n",
    "            Organization.add_organization(org)"
   ]
  }
 ],
 "metadata": {
  "kernelspec": {
   "display_name": "Python 3",
   "language": "python",
   "name": "python3"
  },
  "language_info": {
   "codemirror_mode": {
    "name": "ipython",
    "version": 3
   },
   "file_extension": ".py",
   "mimetype": "text/x-python",
   "name": "python",
   "nbconvert_exporter": "python",
   "pygments_lexer": "ipython3",
   "version": "3.12.10"
  }
 },
 "nbformat": 4,
 "nbformat_minor": 2
}
