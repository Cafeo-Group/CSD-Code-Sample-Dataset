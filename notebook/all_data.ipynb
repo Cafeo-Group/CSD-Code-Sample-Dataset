{
 "cells": [
  {
   "cell_type": "markdown",
   "metadata": {},
   "source": [
    "<div class=\"alert alert-info\">\n",
    "    <center><b>Set up Notebook</b></center>\n",
    "</div>"
   ]
  },
  {
   "cell_type": "code",
   "execution_count": null,
   "metadata": {},
   "outputs": [],
   "source": [
    "%pip install pandas tqdm python-dotenv"
   ]
  },
  {
   "cell_type": "code",
   "execution_count": null,
   "metadata": {},
   "outputs": [],
   "source": [
    "import pandas as pd\n",
    "from tqdm import tqdm\n",
    "from datetime import datetime\n",
    "import pytz\n",
    "from concurrent.futures import ThreadPoolExecutor, as_completed\n",
    "from typing import List"
   ]
  },
  {
   "cell_type": "code",
   "execution_count": null,
   "metadata": {},
   "outputs": [],
   "source": [
    "from os import path, listdir\n",
    "from sys import path as sys_path\n",
    "parent_dir = path.abspath(path.join('..'))\n",
    "if parent_dir not in sys_path:\n",
    "    sys_path.append(parent_dir)\n",
    "    print(f\"Added {parent_dir.split(\"\\\\\")[-1]} to sys.path\")\n",
    "from models.commit import Commit\n",
    "from models.repository import Repository\n",
    "from models.file import File\n",
    "from models.hunk import Hunk\n",
    "from models.cf import CommitFile, MetadataHelper"
   ]
  },
  {
   "cell_type": "markdown",
   "metadata": {},
   "source": [
    "<div class=\"alert alert-info\">\n",
    "    <center><b>Add all methods</b></center>\n",
    "</div>"
   ]
  },
  {
   "cell_type": "code",
   "execution_count": null,
   "metadata": {},
   "outputs": [],
   "source": [
    "def process_files(names: List[str], com: Commit):\n",
    "    files_return = []\n",
    "    for name in names:\n",
    "        file_data = File(name, com.repo_name, com.org_name, name.split('.')[-1].lower())\n",
    "        File.add_file(file_data)\n",
    "        files_return.append(file_data)\n",
    "    return files_return"
   ]
  },
  {
   "cell_type": "code",
   "execution_count": null,
   "metadata": {},
   "outputs": [],
   "source": [
    "def process_hunks(hunks: List['Hunk']):\n",
    "    with ThreadPoolExecutor(max_workers=20) as executor:\n",
    "        futures = {executor.submit(Hunk.add_hunk, hunk): hunk for hunk in hunks}\n",
    "        # think i can delete these below as well, gotta check\n",
    "        for future in tqdm(as_completed(futures), total=len(futures), desc=\"Processing hunks\"):\n",
    "            pass"
   ]
  },
  {
   "cell_type": "code",
   "execution_count": null,
   "metadata": {},
   "outputs": [],
   "source": [
    "def create_cfs_and_hunks(file_names: List[str], com: Commit, parent_dir: str):\n",
    "    repo_path = path.join(parent_dir, com.org_name, com.repo_name)\n",
    "    processed_cfs = set()\n",
    "    \n",
    "    futures = set()\n",
    "    \n",
    "    with ThreadPoolExecutor(max_workers=25) as executor:\n",
    "        for name in file_names:\n",
    "            cf_key = (name, com.repo_name, com.org_name, com.sha)\n",
    "            if cf_key in processed_cfs:\n",
    "                continue\n",
    "            processed_cfs.add(cf_key)\n",
    "            futures.add(executor.submit(File.get_file_content, repo_path, com.sha, name))\n",
    "        \n",
    "        # seems useless\n",
    "        if CommitFile.exists_in_batches(processed_cfs):\n",
    "            return\n",
    "        \n",
    "        db_cfs = []\n",
    "        db_hunks = []\n",
    "        for future in as_completed(futures):\n",
    "            file_content, file_name = future.result()\n",
    "            metadata: MetadataHelper = CommitFile.get_metadata(com.org_name, com.repo_name, com.sha, file_name)\n",
    "            cfs_to_db = CommitFile(com.repo_name, com.org_name, file_name, com.sha, file_content, metadata.change_type, metadata.file_mode, metadata.index_info)\n",
    "            db_cfs.append(cfs_to_db)\n",
    "            hunks_to_db = Hunk(None,file_name,com.repo_name,com.org_name,com.sha,metadata.old_start,metadata.old_length,metadata.new_start,metadata.new_length, metadata.lines,metadata.old_name,metadata.new_name)\n",
    "            db_hunks.append(hunks_to_db)\n",
    "        \n",
    "        if db_cfs:\n",
    "            CommitFile.add_cfs_in_batches(db_cfs)\n",
    "        if db_hunks:\n",
    "            process_hunks(db_hunks)"
   ]
  },
  {
   "cell_type": "code",
   "execution_count": null,
   "metadata": {},
   "outputs": [],
   "source": [
    "def process_all_commit_adjacent_data(parent_folder: str) -> None:\n",
    "    \"\"\"Adds all the commits from the repositories from all organizations downloaded locally.\n",
    "\n",
    "    Args:\n",
    "        parent_folder (str) - The path to the folder containing all organizations.\n",
    "\n",
    "    Returns:\n",
    "        None\n",
    "    \"\"\"\n",
    "    repo_paths = []\n",
    "    \n",
    "    for sub_dir in listdir(parent_folder):\n",
    "        sub_dir_path = path.join(parent_folder, sub_dir)\n",
    "        if path.isdir(sub_dir_path):\n",
    "            for repo_dir in listdir(sub_dir_path):\n",
    "                repo_dir_path = path.join(sub_dir_path, repo_dir)\n",
    "                if path.isdir(repo_dir_path) and path.exists(path.join(repo_dir_path, '.git')):\n",
    "                    repo_paths.append(repo_dir_path)\n",
    "    \n",
    "    repo_paths = list(set(repo_paths))\n",
    "    \n",
    "    with ThreadPoolExecutor(max_workers=3) as executor:\n",
    "        future_commits_from_repo = {\n",
    "            executor.submit(\n",
    "                Commit.get_commit_data,\n",
    "                path.join(\n",
    "                    parent_folder,\n",
    "                    repo.split(\"\\\\\")[-2],\n",
    "                    repo.split(\"\\\\\")[-1]\n",
    "                ),\n",
    "                datetime(2024, 9, 19, tzinfo=pytz.UTC)\n",
    "            ): repo\n",
    "            for repo in tqdm(repo_paths, total=len(repo_paths))\n",
    "        }\n",
    "\n",
    "        for future in tqdm(as_completed(future_commits_from_repo), total=len(future_commits_from_repo), desc=\"Processing Commits\"):\n",
    "            repo = future_commits_from_repo[future]\n",
    "            try:\n",
    "                commits_data: List['Commit'] = future.result()\n",
    "                with ThreadPoolExecutor(max_workers=16) as executor:\n",
    "                    for com in commits_data:\n",
    "                        future_add_commit = {\n",
    "                            executor.submit(\n",
    "                                Commit.add_commit,\n",
    "                                com\n",
    "                            )\n",
    "                        }\n",
    "                    for future_commit in as_completed(future_add_commit):\n",
    "                        try:\n",
    "                            com = future_commit.result()\n",
    "                            file_names = Commit.get_file_names_from_git(path.join(parent_folder, com.org_name, com.repo_name), com.sha)\n",
    "                            process_files(file_names, com)\n",
    "                            create_cfs_and_hunks(file_names, com, parent_folder)\n",
    "                        \n",
    "                            # if files:\n",
    "                            #     files_for_hunks = process_files(files, com)\n",
    "                            #     hunk_threadpool_executor(files_for_hunks)\n",
    "                            \n",
    "                        except Exception as e:\n",
    "                            print(f\"Error adding commit: {e}\")\n",
    "            except Exception as e:\n",
    "                print(f\"Error processing {repo}: {e}\")\n"
   ]
  },
  {
   "cell_type": "markdown",
   "metadata": {},
   "source": [
    "<div class=\"alert alert-info\">\n",
    "    <center><b>Extract all commits and populate the database with them</b></center>\n",
    "</div>"
   ]
  },
  {
   "cell_type": "code",
   "execution_count": null,
   "metadata": {},
   "outputs": [],
   "source": [
    "process_all_commit_adjacent_data(path.join('..', 'download', 'orgs'))"
   ]
  }
 ],
 "metadata": {
  "kernelspec": {
   "display_name": "Python 3",
   "language": "python",
   "name": "python3"
  },
  "language_info": {
   "codemirror_mode": {
    "name": "ipython",
    "version": 3
   },
   "file_extension": ".py",
   "mimetype": "text/x-python",
   "name": "python",
   "nbconvert_exporter": "python",
   "pygments_lexer": "ipython3",
   "version": "3.12.10"
  }
 },
 "nbformat": 4,
 "nbformat_minor": 2
}
