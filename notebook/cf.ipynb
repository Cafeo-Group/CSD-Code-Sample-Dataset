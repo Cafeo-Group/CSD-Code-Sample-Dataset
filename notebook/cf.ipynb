{
 "cells": [
  {
   "cell_type": "code",
   "execution_count": 1,
   "metadata": {},
   "outputs": [
    {
     "name": "stdout",
     "output_type": "stream",
     "text": [
      "Defaulting to user installation because normal site-packages is not writeable\n",
      "Requirement already satisfied: tqdm in c:\\users\\oheit\\appdata\\local\\packages\\pythonsoftwarefoundation.python.3.12_qbz5n2kfra8p0\\localcache\\local-packages\\python312\\site-packages (4.66.4)\n",
      "Requirement already satisfied: colorama in c:\\users\\oheit\\appdata\\local\\packages\\pythonsoftwarefoundation.python.3.12_qbz5n2kfra8p0\\localcache\\local-packages\\python312\\site-packages (from tqdm) (0.4.6)\n",
      "Note: you may need to restart the kernel to use updated packages.\n"
     ]
    }
   ],
   "source": [
    "%pip install tqdm"
   ]
  },
  {
   "cell_type": "code",
   "execution_count": 2,
   "metadata": {},
   "outputs": [],
   "source": [
    "from tqdm import tqdm\n",
    "from concurrent.futures import ThreadPoolExecutor, as_completed"
   ]
  },
  {
   "cell_type": "code",
   "execution_count": 3,
   "metadata": {},
   "outputs": [
    {
     "name": "stdout",
     "output_type": "stream",
     "text": [
      "Added finer to sys.path\n"
     ]
    }
   ],
   "source": [
    "from os import path\n",
    "from sys import path as sys_path\n",
    "parent_dir = path.abspath(path.join('..'))\n",
    "if parent_dir not in sys_path:\n",
    "    sys_path.append(parent_dir)\n",
    "    print(f\"Added {parent_dir.split(\"\\\\\")[-1]} to sys.path\")\n",
    "from models.commit import Commit\n",
    "from models.cf import CommitFile\n",
    "from models.commit import Commit\n",
    "from models.file import File\n",
    "from typing import List"
   ]
  },
  {
   "cell_type": "code",
   "execution_count": null,
   "metadata": {},
   "outputs": [],
   "source": [
    "def create_cfs(files: List[str], com: Commit, parent_dir: str):\n",
    "    repo_path = path.join(parent_dir, com.org_name, com.repo_name)\n",
    "    processed_cfs = set()\n",
    "    \n",
    "    futures = set()\n",
    "    \n",
    "    with ThreadPoolExecutor(max_workers=25) as executor:\n",
    "        for file in files:\n",
    "            cf_key = (file, com.sha, com.repo_name, com.org_name)\n",
    "            if cf_key in processed_cfs:\n",
    "                continue\n",
    "            processed_cfs.add(cf_key)\n",
    "            futures.add(executor.submit(File.get_file_content, repo_path, com.sha, file))\n",
    "        \n",
    "        if CommitFile.exists_in_batches(processed_cfs):\n",
    "            return\n",
    "        \n",
    "        db_cfs = []\n",
    "        for future in as_completed(futures):\n",
    "            file_content, file_name = future.result()\n",
    "            file_to_db = CommitFile(com.repo_name, com.org_name, file_name, com.sha, file_content)\n",
    "            db_cfs.append(file_to_db)\n",
    "        \n",
    "        if db_cfs:\n",
    "            CommitFile.add_cfs_in_batches(db_cfs)\n"
   ]
  },
  {
   "cell_type": "code",
   "execution_count": 5,
   "metadata": {},
   "outputs": [],
   "source": [
    "commits = Commit.fetch_all_commits()\n",
    "parent_folder = path.join('..', 'download', 'orgs')"
   ]
  },
  {
   "cell_type": "code",
   "execution_count": null,
   "metadata": {},
   "outputs": [
    {
     "name": "stderr",
     "output_type": "stream",
     "text": [
      "Processing commits:   8%|▊         | 2449/32533 [06:18<57:36,  8.70it/s]   "
     ]
    }
   ],
   "source": [
    "for com in tqdm(commits, total=len(commits), desc=\"Processing commits\"):\n",
    "    files = com.get_file_names_from_git(path.join(parent_folder, com.org_name, com.repo_name), com.sha)\n",
    "    if files:\n",
    "        create_cfs(files, com, parent_folder)"
   ]
  }
 ],
 "metadata": {
  "kernelspec": {
   "display_name": "Python 3",
   "language": "python",
   "name": "python3"
  },
  "language_info": {
   "codemirror_mode": {
    "name": "ipython",
    "version": 3
   },
   "file_extension": ".py",
   "mimetype": "text/x-python",
   "name": "python",
   "nbconvert_exporter": "python",
   "pygments_lexer": "ipython3",
   "version": "3.12.10"
  }
 },
 "nbformat": 4,
 "nbformat_minor": 2
}
