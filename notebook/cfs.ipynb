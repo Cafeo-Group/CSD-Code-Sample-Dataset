{
 "cells": [
  {
   "cell_type": "code",
   "execution_count": null,
   "metadata": {},
   "outputs": [],
   "source": [
    "%pip install tqdm"
   ]
  },
  {
   "cell_type": "code",
   "execution_count": null,
   "metadata": {},
   "outputs": [],
   "source": [
    "from tqdm import tqdm\n",
    "from concurrent.futures import ThreadPoolExecutor, as_completed"
   ]
  },
  {
   "cell_type": "code",
   "execution_count": null,
   "metadata": {},
   "outputs": [],
   "source": [
    "from os import path\n",
    "from sys import path as sys_path\n",
    "parent_dir = path.abspath(path.join('..'))\n",
    "if parent_dir not in sys_path:\n",
    "    sys_path.append(parent_dir)\n",
    "    print(f\"Added {parent_dir.split(\"\\\\\")[-1]} to sys.path\")\n",
    "from models.commit import Commit\n",
    "from models.cf import CommitFile, MetadataHelper\n",
    "from utils.worker import get_optimal_max_workers\n",
    "from models.file import File\n",
    "from typing import List"
   ]
  },
  {
   "cell_type": "code",
   "execution_count": null,
   "metadata": {},
   "outputs": [],
   "source": [
    "commits = Commit.fetch_all_commits()\n",
    "parent_folder = path.join('..', 'download', 'orgs')\n",
    "max_workers = get_optimal_max_workers()\n",
    "max_workers = int(max_workers - max_workers * 0.05)"
   ]
  },
  {
   "cell_type": "code",
   "execution_count": null,
   "metadata": {},
   "outputs": [],
   "source": [
    "def create_cfs(file_names: List[str], com: Commit, parent_dir: str):\n",
    "    repo_path = path.join(parent_dir, com.org_name, com.repo_name)\n",
    "    \n",
    "    futures = []\n",
    "    \n",
    "    with ThreadPoolExecutor(max_workers=max_workers * 0.5) as executor:\n",
    "        for name in file_names:\n",
    "            futures.append(executor.submit(File.get_file_content, repo_path, com.sha, name))\n",
    "        \n",
    "        db_cfs = []\n",
    "        for future in as_completed(futures):\n",
    "            file_content, file_name = future.result()\n",
    "            metadata_list: MetadataHelper = CommitFile.get_metadata(com.org_name, com.repo_name, com.sha, file_name)\n",
    "            for metadata in metadata_list:\n",
    "                cfs_to_db = CommitFile(com.repo_name, com.org_name, file_name, com.sha, file_content, metadata.change_type, metadata.file_mode, metadata.index_info)\n",
    "                db_cfs.append(cfs_to_db)\n",
    "\n",
    "        if db_cfs:\n",
    "            CommitFile.add_cfs_in_batches(db_cfs)"
   ]
  },
  {
   "cell_type": "code",
   "execution_count": null,
   "metadata": {},
   "outputs": [],
   "source": [
    "new_cf_candidates = []"
   ]
  },
  {
   "cell_type": "code",
   "execution_count": null,
   "metadata": {},
   "outputs": [],
   "source": [
    "with ThreadPoolExecutor(max_workers=max_workers) as executor:\n",
    "    futures = {executor.submit(Commit.get_file_names_from_git, path.join(parent_folder, com.org_name, com.repo_name), com.sha): com for com in commits}\n",
    "    for future in tqdm(as_completed(futures), total=len(futures), desc=\"Generating cf candidates\"):\n",
    "        com = futures[future]\n",
    "        try:\n",
    "            file_names = future.result()\n",
    "            if file_names:\n",
    "                new_cf_candidates.extend([(file_names, com)])\n",
    "        except Exception as e:\n",
    "            print(f\"Error processing file {com.sha}: {e}\")\n",
    "print(len(new_cf_candidates), \"candidates\")"
   ]
  },
  {
   "cell_type": "code",
   "execution_count": null,
   "metadata": {},
   "outputs": [],
   "source": [
    "if new_cf_candidates:\n",
    "    with ThreadPoolExecutor(max_workers=max_workers * 0.8) as executor:\n",
    "        futures = [\n",
    "            executor.submit(create_cfs, files, com, parent_folder)\n",
    "            for files, com in tqdm(new_cf_candidates, desc=\"Creating cfs\", total=len(new_cf_candidates))\n",
    "        ]\n",
    "\n",
    "        for _ in tqdm(as_completed(futures), total=len(futures), desc=\"Completed futures\"):\n",
    "            pass"
   ]
  }
 ],
 "metadata": {
  "kernelspec": {
   "display_name": "Python 3",
   "language": "python",
   "name": "python3"
  },
  "language_info": {
   "codemirror_mode": {
    "name": "ipython",
    "version": 3
   },
   "file_extension": ".py",
   "mimetype": "text/x-python",
   "name": "python",
   "nbconvert_exporter": "python",
   "pygments_lexer": "ipython3",
   "version": "3.12.10"
  }
 },
 "nbformat": 4,
 "nbformat_minor": 2
}
