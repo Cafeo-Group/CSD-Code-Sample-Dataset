{
 "cells": [
  {
   "cell_type": "code",
   "execution_count": null,
   "id": "ac91f2aa",
   "metadata": {},
   "outputs": [],
   "source": [
    "%pip install tqdm logging python-dotenv"
   ]
  },
  {
   "cell_type": "code",
   "execution_count": null,
   "id": "e2be8767",
   "metadata": {},
   "outputs": [],
   "source": [
    "import logging\n",
    "import time\n",
    "from tqdm import tqdm\n",
    "from typing import Optional\n",
    "from dotenv import load_dotenv\n",
    "import json"
   ]
  },
  {
   "cell_type": "code",
   "execution_count": null,
   "id": "7d9be893",
   "metadata": {},
   "outputs": [],
   "source": [
    "from os import path, getenv\n",
    "from sys import path as sys_path\n",
    "parent_dir = path.abspath(path.join('..'))\n",
    "if parent_dir not in sys_path:\n",
    "    sys_path.append(parent_dir)\n",
    "    print(f\"Added {parent_dir.split(\"\\\\\")[-1]} to sys.path\")\n",
    "from client.openUiClient import OpenUiClient"
   ]
  },
  {
   "cell_type": "code",
   "execution_count": null,
   "id": "44a6e540",
   "metadata": {},
   "outputs": [],
   "source": [
    "client = OpenUiClient()"
   ]
  },
  {
   "cell_type": "code",
   "execution_count": null,
   "id": "246a4986",
   "metadata": {},
   "outputs": [],
   "source": [
    "models = [\n",
    "    # 'deepseek-r1:14b', \n",
    "          'llama3:8b', \n",
    "        #   'qwen:1.8b', \n",
    "        #   'phi:latest',\n",
    "          'llama3.1:8b', \n",
    "        #   'stable-code:latest', \n",
    "          #'gemma3:12b', \n",
    "          # 'phi4-reasoning:latest',\n",
    "          #'llama3.2-vision:11b'\n",
    "          ]"
   ]
  },
  {
   "cell_type": "code",
   "execution_count": null,
   "id": "e130ff2c",
   "metadata": {},
   "outputs": [],
   "source": [
    "def read_json(file_path):\n",
    "        \"\"\"\n",
    "        Read a JSON file and return its content.\n",
    "        \n",
    "        :param file_path: The path of the JSON file to read.\n",
    "        :return: The content of the JSON file as a dictionary.\n",
    "        \"\"\"\n",
    "        try:\n",
    "            file_path\n",
    "            with open(file_path, 'r', encoding='utf-8') as file:\n",
    "                return json.load(file)\n",
    "        except FileNotFoundError:\n",
    "            logging.error(f\"File not found: {file_path}\")\n",
    "            return None\n",
    "        except json.JSONDecodeError as e:\n",
    "            logging.error(f\"Error decoding JSON from {file_path}: {e}\")\n",
    "            return None"
   ]
  },
  {
   "cell_type": "code",
   "execution_count": null,
   "id": "5ae07c03",
   "metadata": {},
   "outputs": [],
   "source": [
    "def test_chatWithSeveralModels():\n",
    "    file_path = path.abspath(path.join('..', '..', 'golden_set.json'))\n",
    "    json_data = read_json(file_path)\n",
    "    responses = []\n",
    "    \n",
    "    knowledge_file = path.abspath(path.join('..','knowledge', 'Guidelines.txt'))\n",
    "    \n",
    "    for index, item in json_data.items():\n",
    "        repos = item\n",
    "        for repo in tqdm(repos, desc='Processing repos', leave=False):\n",
    "            main_content = []\n",
    "            commits = repo.get('commits', [])\n",
    "\n",
    "            for commit in tqdm(commits, desc='Processing commits', leave=False):\n",
    "                commit_message = commit.get('message', '')\n",
    "                \n",
    "                files = commit.get('files', [])\n",
    "                commit_message = commit.get('message', '')\n",
    "                link = commit.get('link', '')\n",
    "                sha = commit.get('sha', '')\n",
    "                files = commit.get('files', [])\n",
    "                main_content.append((link, f\"\"\"Commit Message: {commit_message}\n",
    "                                    Files in the commit:\n",
    "                                    {files}\"\"\",\n",
    "                                    sha))\n",
    "            \n",
    "            for content in main_content:\n",
    "                for model in models:\n",
    "                    print(f\"\\nUsing model: {model}\")\n",
    "                    max_retries = 1\n",
    "                    for attempt in range(max_retries):\n",
    "                        chat_response = client.chatWithModel(knowledge=knowledge_file, commit_data=content[1], model=model)\n",
    "                        if chat_response:\n",
    "                            print(\"Status code:\", chat_response.status_code)\n",
    "                            try:\n",
    "                                chat_response_message = chat_response.json()['choices'][0]['message']['content']\n",
    "                                print(\"Chat response:\", chat_response_message)\n",
    "                                responses.append({\n",
    "                                    'model': model,\n",
    "                                    'sha': content[2],\n",
    "                                    'link': content[0],\n",
    "                                    'response': chat_response_message,\n",
    "                                })\n",
    "                                break\n",
    "                            except (KeyError, IndexError) as e:\n",
    "                                print(f\"Error processing the chat response. Details: {e}\")\n",
    "                                break\n",
    "                        else:\n",
    "                            print(\"Unable to perform the chat.\")\n",
    "                            if attempt < max_retries - 1:\n",
    "                                print(f\"Retrying ({attempt+1}/{max_retries}) after 10 seconds...\")\n",
    "                                time.sleep(5)\n",
    "                            else:\n",
    "                                print(\"Max retries reached. Skipping this request.\")\n",
    "                    time.sleep(10)\n",
    "    return responses"
   ]
  },
  {
   "cell_type": "code",
   "execution_count": null,
   "id": "932187b5",
   "metadata": {},
   "outputs": [],
   "source": [
    "def test_chatWithModel(model: Optional[str] = 'llama3.1:8b'):\n",
    "    filePath = path.abspath(path.join('..', '..', 'golden_set.json'))\n",
    "    json_data = read_json(filePath)\n",
    "    responses = []\n",
    "    \n",
    "    knowledge_file = path.abspath(path.join('..','knowledge', 'Guidelines.txt'))\n",
    "\n",
    "    for index, item in json_data.items():\n",
    "        repos = item\n",
    "        for repo in tqdm(repos, desc='Processing repos', leave=False):\n",
    "            main_content = []\n",
    "            commits = repo.get('commits', [])\n",
    "\n",
    "            for commit in tqdm(commits, desc='Processing commits', leave=False):\n",
    "                commit_message = commit.get('message', '')\n",
    "                link = commit.get('link', '')\n",
    "                sha = commit.get('sha', '')\n",
    "                files = commit.get('files', [])\n",
    "                main_content.append((link, f\"\"\"Commit Message: {commit_message}\n",
    "                                    Files in the commit:\n",
    "                                    {files}\"\"\",\n",
    "                                    sha))\n",
    "            \n",
    "            for content in main_content:\n",
    "                chat_response = client.chatWithModel(knowledge=knowledge_file, commit_data=content[1], model=model)\n",
    "                if chat_response:\n",
    "                    print(\"Status code:\", chat_response.status_code)\n",
    "                    try:\n",
    "                        chat_response_message = chat_response.json()['choices'][0]['message']['content']\n",
    "                        print(\"Chat response:\\n\", chat_response_message)\n",
    "                        responses.append({\n",
    "                            'model': model,\n",
    "                            'sha': content[2],\n",
    "                            'link': content[0],\n",
    "                            'response': chat_response_message,\n",
    "                        })\n",
    "                    except (KeyError, IndexError) as e:\n",
    "                        print(f\"Error processing the chat response. Details: {e}\")\n",
    "                else:\n",
    "                    print(\"Unable to perform the chat.\")\n",
    "                time.sleep(0.5)\n",
    "    return responses"
   ]
  },
  {
   "cell_type": "code",
   "execution_count": null,
   "id": "ea360021",
   "metadata": {},
   "outputs": [],
   "source": [
    "def save_output(output: str, file_path: str):\n",
    "    \"\"\"\n",
    "    Save the output of model(s) to a json file.\n",
    "    \n",
    "    The output will be restructured to a dictionary format with model as the key and the sha, link and response as values.\n",
    "    \n",
    "    :param output: The content to save.\n",
    "    \"\"\"\n",
    "    output_dict = {}\n",
    "    for response in output:\n",
    "        model = response['model']\n",
    "        if model not in output_dict:\n",
    "            output_dict[model] = []\n",
    "        output_dict[model].append({\n",
    "            'sha': response['sha'],\n",
    "            'link': response['link'],\n",
    "            'response': response['response']\n",
    "        })\n",
    "    \n",
    "    with open(file_path, 'w', encoding='utf-8') as file:\n",
    "        json.dump(output_dict, file, indent=4)\n",
    "    print(f\"Output saved to {file_path}\")"
   ]
  },
  {
   "cell_type": "code",
   "execution_count": null,
   "id": "0a57b184",
   "metadata": {},
   "outputs": [],
   "source": [
    "print(client.getAvailableApiModels())"
   ]
  },
  {
   "cell_type": "code",
   "execution_count": null,
   "id": "28a8e13a",
   "metadata": {},
   "outputs": [
    {
     "name": "stdout",
     "output_type": "stream",
     "text": [
      "Status code: 200\n",
      "Chat response:\n",
      " Modification Request Classification: correction\n",
      "Maintenance Type: corrective\n"
     ]
    }
   ],
   "source": [
    "output_stable_code = test_chatWithModel()\n",
    "save_output(output_stable_code, path.abspath(path.join('..','..','output_for_llama3_model.txt')))"
   ]
  },
  {
   "cell_type": "code",
   "execution_count": null,
   "id": "4962bf42",
   "metadata": {},
   "outputs": [],
   "source": [
    "output_all_models = test_chatWithSeveralModels()\n",
    "save_output(output_all_models, path.abspath(path.join('..','..','output_for_all_models.txt')))"
   ]
  }
 ],
 "metadata": {
  "kernelspec": {
   "display_name": "Python 3",
   "language": "python",
   "name": "python3"
  },
  "language_info": {
   "codemirror_mode": {
    "name": "ipython",
    "version": 3
   },
   "file_extension": ".py",
   "mimetype": "text/x-python",
   "name": "python",
   "nbconvert_exporter": "python",
   "pygments_lexer": "ipython3",
   "version": "3.12.10"
  }
 },
 "nbformat": 4,
 "nbformat_minor": 5
}
