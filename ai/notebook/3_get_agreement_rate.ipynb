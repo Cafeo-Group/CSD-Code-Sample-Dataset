{
 "cells": [
  {
   "cell_type": "code",
   "execution_count": null,
   "id": "cc452702",
   "metadata": {},
   "outputs": [],
   "source": [
    "import pandas as pd\n",
    "import json\n",
    "from os import path"
   ]
  },
  {
   "cell_type": "code",
   "execution_count": null,
   "id": "6ec8de79",
   "metadata": {},
   "outputs": [],
   "source": [
    "def compute_agreement_rate(csv_path, json_path):\n",
    "    df = pd.read_csv(csv_path)\n",
    "    \n",
    "    df['what'] = df['what'].astype(bool)\n",
    "    df['why'] = df['why'].astype(bool)\n",
    "\n",
    "    with open(json_path, 'r') as f:\n",
    "        llm_data = json.load(f)\n",
    "    \n",
    "    results = {}\n",
    "\n",
    "    for llm_name, ratings in llm_data.items():\n",
    "        matches = 0\n",
    "        total = 0\n",
    "\n",
    "        for commit in ratings:\n",
    "            sha = commit[\"sha\"]\n",
    "            llm_what = bool(commit.get(\"what_present\", False))\n",
    "            llm_why = bool(commit.get(\"why_present\", False))\n",
    "            \n",
    "            row = df[df['sha'] == sha]\n",
    "            if row.empty:\n",
    "                continue\n",
    "\n",
    "            row = row.iloc[0]\n",
    "            total += 2 \n",
    "\n",
    "            if bool(row['what']) == llm_what:\n",
    "                matches += 1\n",
    "            if bool(row['why']) == llm_why:\n",
    "                matches += 1\n",
    "\n",
    "        results[llm_name] = matches / total if total > 0 else None\n",
    "\n",
    "    return results"
   ]
  },
  {
   "cell_type": "code",
   "execution_count": null,
   "id": "7172cc9e",
   "metadata": {},
   "outputs": [
    {
     "name": "stdout",
     "output_type": "stream",
     "text": [
      "llama3.1:8b: 31.25%\n"
     ]
    }
   ],
   "source": [
    "rate_agreement = compute_agreement_rate(path.abspath(\n",
    "    path.join('..', '..', 'data', 'chosen_commits.csv')),\n",
    "    path.abspath(path.join('..', '..', 'evaluation_for_llama3_model.json')\n",
    "))"
   ]
  },
  {
   "cell_type": "code",
   "execution_count": null,
   "id": "3fc9c44d",
   "metadata": {},
   "outputs": [
    {
     "ename": "",
     "evalue": "",
     "output_type": "error",
     "traceback": [
      "\u001b[1;31mThe Kernel crashed while executing code in the current cell or a previous cell. \n",
      "\u001b[1;31mPlease review the code in the cell(s) to identify a possible cause of the failure. \n",
      "\u001b[1;31mClick <a href='https://aka.ms/vscodeJupyterKernelCrash'>here</a> for more info. \n",
      "\u001b[1;31mView Jupyter <a href='command:jupyter.viewOutput'>log</a> for further details."
     ]
    }
   ],
   "source": [
    "rate_agreement_df.index.name = \"model_name\"\n",
    "rate_agreement_df.to_csv(path.abspath(\n",
    "    path.join('..', '..', 'evaluation_for_llama3_model_agreement_rate.csv')), index=True)"
   ]
  }
 ],
 "metadata": {
  "kernelspec": {
   "display_name": "Python 3",
   "language": "python",
   "name": "python3"
  },
  "language_info": {
   "codemirror_mode": {
    "name": "ipython",
    "version": 3
   },
   "file_extension": ".py",
   "mimetype": "text/x-python",
   "name": "python",
   "nbconvert_exporter": "python",
   "pygments_lexer": "ipython3",
   "version": "3.12.10"
  }
 },
 "nbformat": 4,
 "nbformat_minor": 5
}
